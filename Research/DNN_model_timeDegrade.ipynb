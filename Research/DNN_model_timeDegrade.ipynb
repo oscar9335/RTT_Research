{
 "cells": [
  {
   "cell_type": "code",
   "execution_count": 52,
   "metadata": {},
   "outputs": [],
   "source": [
    "import pandas as pd\n",
    "import numpy as np\n",
    "import tensorflow as tf\n",
    "from tensorflow import keras\n",
    "from sklearn.model_selection import train_test_split\n",
    "from sklearn.metrics import accuracy_score\n",
    "import matplotlib.pyplot as plt\n",
    "from sklearn.metrics import confusion_matrix\n",
    "import seaborn as sns\n",
    "from sklearn.metrics import classification_report\n",
    "from sklearn.model_selection import KFold\n",
    "import json\n",
    "import os \n",
    "from sklearn.preprocessing import StandardScaler\n",
    "from tensorflow.keras.callbacks import EarlyStopping\n",
    "\n",
    "from sklearn.preprocessing import StandardScaler\n",
    "import joblib  # 用於保存模型"
   ]
  },
  {
   "cell_type": "markdown",
   "metadata": {},
   "source": [
    "# 訓練模型"
   ]
  },
  {
   "cell_type": "code",
   "execution_count": null,
   "metadata": {},
   "outputs": [],
   "source": [
    "selected_columns = ['Label',\n",
    "                    'AP1_Distance (mm)','AP3_Distance (mm)',\n",
    "                    'AP1_StdDev (mm)','AP3_StdDev (mm)',\n",
    "                                ]  \n",
    "\n",
    "what_data = \"DNN_3Layer_2AP_Best_combine_2FTM_20241214_usingearlystopepchoc10000\"\n",
    "# what_data = \"DNN_3Layer_1AP_Best_combine_F_S_R_20241214_usingearlystopepchoc10000\"\n",
    "\n",
    "# 'AP1_Distance (mm)',\n",
    "# 'AP1_StdDev (mm)',"
   ]
  },
  {
   "cell_type": "code",
   "execution_count": 54,
   "metadata": {},
   "outputs": [
    {
     "name": "stdout",
     "output_type": "stream",
     "text": [
      "  Label  AP2_Distance (mm)  AP4_Distance (mm)  AP2_StdDev (mm)  \\\n",
      "0  1-11             8178.0             4852.0           1502.0   \n",
      "1  1-11             8139.0             4911.0           1466.0   \n",
      "2  1-11             8139.0             4647.0             91.0   \n",
      "3  1-11             8022.0             6219.0           1523.0   \n",
      "4  1-11             8335.0             4471.0           1195.0   \n",
      "\n",
      "   AP4_StdDev (mm)  \n",
      "0            934.0  \n",
      "1            485.0  \n",
      "2            600.0  \n",
      "3           2649.0  \n",
      "4           1079.0  \n"
     ]
    }
   ],
   "source": [
    "# 1. 讀取資料\n",
    "file_path = \"timestamp_allignment_Balanced_2024_12_14_rtt_logs.csv\"\n",
    "\n",
    "date = \"2024_12_14\"\n",
    "\n",
    "data = pd.read_csv(file_path, usecols=selected_columns)\n",
    "\n",
    "print(data.head())"
   ]
  },
  {
   "cell_type": "code",
   "execution_count": 55,
   "metadata": {},
   "outputs": [],
   "source": [
    "label_to_coordinates = {\n",
    "    \"1-1\": (0, 0), \"1-2\": (0.6, 0), \"1-3\": (1.2, 0), \"1-4\": (1.8, 0), \"1-5\": (2.4, 0), \"1-6\": (3.0, 0),\"1-7\": (3.6, 0), \"1-8\": (4.2, 0), \"1-9\": (4.8, 0), \"1-10\": (5.4, 0), \"1-11\": (6.0, 0),\n",
    "    \"2-1\": (0, 0.6), \"2-11\": (6.0, 0.6),\n",
    "    \"3-1\": (0, 1.2), \"3-11\": (6.0, 1.2),\n",
    "    \"4-1\": (0, 1.8), \"4-11\": (6.0, 1.8),\n",
    "    \"5-1\": (0, 2.4), \"5-11\": (6.0, 2.4),\n",
    "    \"6-1\": (0, 3.0), \"6-2\": (0.6, 3.0), \"6-3\": (1.2, 3.0), \"6-4\": (1.8, 3.0), \"6-5\": (2.4, 3.0),\"6-6\": (3.0, 3.0), \"6-7\": (3.6, 3.0), \"6-8\": (4.2, 3.0), \"6-9\": (4.8, 3.0), \"6-10\": (5.4, 3.0), \"6-11\": (6.0, 3.0),\n",
    "    \"7-1\": (0, 3.6), \"7-11\": (6.0, 3.6),\n",
    "    \"8-1\": (0, 4.2), \"8-11\": (6.0, 4.2),\n",
    "    \"9-1\": (0, 4.8), \"9-11\": (6.0, 4.8),\n",
    "    \"10-1\": (0, 5.4), \"10-11\": (6.0, 5.4),\n",
    "    \"11-1\": (0, 6.0), \"11-2\": (0.6, 6.0), \"11-3\": (1.2, 6.0), \"11-4\": (1.8, 6.0), \"11-5\": (2.4, 6.0),\"11-6\": (3.0, 6.0), \"11-7\": (3.6, 6.0), \"11-8\": (4.2, 6.0), \"11-9\": (4.8, 6.0), \"11-10\": (5.4, 6.0), \"11-11\": (6.0, 6.0)\n",
    "}"
   ]
  },
  {
   "cell_type": "code",
   "execution_count": 56,
   "metadata": {},
   "outputs": [],
   "source": [
    "label_mapping = {\n",
    "    '11': '1-1','10': '1-2','9': '1-3','8': '1-4','7': '1-5','6': '1-6','5': '1-7','4': '1-8','3': '1-9','2': '1-10','1': '1-11',\n",
    "    '12': '2-1','30': '2-11',\n",
    "    '13': '3-1','29': '3-11',\n",
    "    '14': '4-1','28': '4-11',\n",
    "    '15': '5-1','27': '5-11',\n",
    "    '16': '6-1','17': '6-2','18': '6-3','19': '6-4','20': '6-5','21': '6-6','22': '6-7','23': '6-8','24': '6-9','25': '6-10','26': '6-11',\n",
    "    '49': '7-1','31': '7-11',\n",
    "    '48': '8-1','32': '8-11',\n",
    "    '47': '9-1','33': '9-11',\n",
    "    '46': '10-1','34': '10-11',\n",
    "    '45': '11-1','44': '11-2','43': '11-3','42': '11-4','41': '11-5','40': '11-6','39': '11-7','38': '11-8','37': '11-9','36': '11-10','35': '11-11'\n",
    "}"
   ]
  },
  {
   "cell_type": "code",
   "execution_count": 57,
   "metadata": {},
   "outputs": [],
   "source": [
    "# target_column = 'Label'  # 替換成目標欄位名稱\n",
    "# # 替換目標欄位的 label\n",
    "# data[target_column] = data[target_column].astype(str).map(label_mapping)\n",
    "# # 確認是否有未映射的值\n",
    "# unmapped_values = data[target_column][data[target_column].isna()].unique()\n",
    "# if len(unmapped_values) > 0:\n",
    "#     print(\"以下值未找到對應的映射：\", unmapped_values)"
   ]
  },
  {
   "cell_type": "code",
   "execution_count": 58,
   "metadata": {},
   "outputs": [],
   "source": [
    "test_size=0.2\n",
    "val_size=0.1\n",
    "\n",
    "target_column = 'Label'  # 替換成目標欄位名稱"
   ]
  },
  {
   "cell_type": "code",
   "execution_count": 59,
   "metadata": {},
   "outputs": [],
   "source": [
    "label_column = 'Label'"
   ]
  },
  {
   "cell_type": "code",
   "execution_count": 60,
   "metadata": {},
   "outputs": [
    {
     "name": "stderr",
     "output_type": "stream",
     "text": [
      "/tmp/ipykernel_78751/2255483106.py:17: FutureWarning: The behavior of DataFrame concatenation with empty or all-NA entries is deprecated. In a future version, this will no longer exclude empty or all-NA columns when determining the result dtypes. To retain the old behavior, exclude the relevant entries before the concat operation.\n",
      "  processed_data = pd.concat([processed_data, group], ignore_index=True)\n"
     ]
    },
    {
     "data": {
      "text/html": [
       "<div>\n",
       "<style scoped>\n",
       "    .dataframe tbody tr th:only-of-type {\n",
       "        vertical-align: middle;\n",
       "    }\n",
       "\n",
       "    .dataframe tbody tr th {\n",
       "        vertical-align: top;\n",
       "    }\n",
       "\n",
       "    .dataframe thead th {\n",
       "        text-align: right;\n",
       "    }\n",
       "</style>\n",
       "<table border=\"1\" class=\"dataframe\">\n",
       "  <thead>\n",
       "    <tr style=\"text-align: right;\">\n",
       "      <th></th>\n",
       "      <th>Label</th>\n",
       "      <th>AP2_Distance (mm)</th>\n",
       "      <th>AP4_Distance (mm)</th>\n",
       "      <th>AP2_StdDev (mm)</th>\n",
       "      <th>AP4_StdDev (mm)</th>\n",
       "    </tr>\n",
       "  </thead>\n",
       "  <tbody>\n",
       "    <tr>\n",
       "      <th>0</th>\n",
       "      <td>1-1</td>\n",
       "      <td>6811.0</td>\n",
       "      <td>-811.0</td>\n",
       "      <td>1239.0</td>\n",
       "      <td>1318.0</td>\n",
       "    </tr>\n",
       "    <tr>\n",
       "      <th>1</th>\n",
       "      <td>1-1</td>\n",
       "      <td>6841.0</td>\n",
       "      <td>-850.0</td>\n",
       "      <td>1262.0</td>\n",
       "      <td>1503.0</td>\n",
       "    </tr>\n",
       "    <tr>\n",
       "      <th>2</th>\n",
       "      <td>1-1</td>\n",
       "      <td>6841.0</td>\n",
       "      <td>-733.0</td>\n",
       "      <td>1265.0</td>\n",
       "      <td>1350.0</td>\n",
       "    </tr>\n",
       "    <tr>\n",
       "      <th>3</th>\n",
       "      <td>1-1</td>\n",
       "      <td>6811.0</td>\n",
       "      <td>-743.0</td>\n",
       "      <td>1275.0</td>\n",
       "      <td>1421.0</td>\n",
       "    </tr>\n",
       "    <tr>\n",
       "      <th>4</th>\n",
       "      <td>1-1</td>\n",
       "      <td>6811.0</td>\n",
       "      <td>-889.0</td>\n",
       "      <td>1318.0</td>\n",
       "      <td>1500.0</td>\n",
       "    </tr>\n",
       "    <tr>\n",
       "      <th>...</th>\n",
       "      <td>...</td>\n",
       "      <td>...</td>\n",
       "      <td>...</td>\n",
       "      <td>...</td>\n",
       "      <td>...</td>\n",
       "    </tr>\n",
       "    <tr>\n",
       "      <th>19546</th>\n",
       "      <td>9-11</td>\n",
       "      <td>6255.0</td>\n",
       "      <td>5145.0</td>\n",
       "      <td>763.0</td>\n",
       "      <td>1005.0</td>\n",
       "    </tr>\n",
       "    <tr>\n",
       "      <th>19547</th>\n",
       "      <td>9-11</td>\n",
       "      <td>7866.0</td>\n",
       "      <td>4500.0</td>\n",
       "      <td>910.0</td>\n",
       "      <td>278.0</td>\n",
       "    </tr>\n",
       "    <tr>\n",
       "      <th>19548</th>\n",
       "      <td>9-11</td>\n",
       "      <td>8100.0</td>\n",
       "      <td>4998.0</td>\n",
       "      <td>832.0</td>\n",
       "      <td>1038.0</td>\n",
       "    </tr>\n",
       "    <tr>\n",
       "      <th>19549</th>\n",
       "      <td>9-11</td>\n",
       "      <td>8061.0</td>\n",
       "      <td>4461.0</td>\n",
       "      <td>878.0</td>\n",
       "      <td>1585.0</td>\n",
       "    </tr>\n",
       "    <tr>\n",
       "      <th>19550</th>\n",
       "      <td>9-11</td>\n",
       "      <td>6030.0</td>\n",
       "      <td>4774.0</td>\n",
       "      <td>1142.0</td>\n",
       "      <td>145.0</td>\n",
       "    </tr>\n",
       "  </tbody>\n",
       "</table>\n",
       "<p>19551 rows × 5 columns</p>\n",
       "</div>"
      ],
      "text/plain": [
       "      Label  AP2_Distance (mm)  AP4_Distance (mm)  AP2_StdDev (mm)  \\\n",
       "0       1-1             6811.0             -811.0           1239.0   \n",
       "1       1-1             6841.0             -850.0           1262.0   \n",
       "2       1-1             6841.0             -733.0           1265.0   \n",
       "3       1-1             6811.0             -743.0           1275.0   \n",
       "4       1-1             6811.0             -889.0           1318.0   \n",
       "...     ...                ...                ...              ...   \n",
       "19546  9-11             6255.0             5145.0            763.0   \n",
       "19547  9-11             7866.0             4500.0            910.0   \n",
       "19548  9-11             8100.0             4998.0            832.0   \n",
       "19549  9-11             8061.0             4461.0            878.0   \n",
       "19550  9-11             6030.0             4774.0           1142.0   \n",
       "\n",
       "       AP4_StdDev (mm)  \n",
       "0               1318.0  \n",
       "1               1503.0  \n",
       "2               1350.0  \n",
       "3               1421.0  \n",
       "4               1500.0  \n",
       "...                ...  \n",
       "19546           1005.0  \n",
       "19547            278.0  \n",
       "19548           1038.0  \n",
       "19549           1585.0  \n",
       "19550            145.0  \n",
       "\n",
       "[19551 rows x 5 columns]"
      ]
     },
     "execution_count": 60,
     "metadata": {},
     "output_type": "execute_result"
    }
   ],
   "source": [
    "# 資料前處理 (一): 刪除前後n筆資料\n",
    "n = 1\n",
    "# 確保依據Label排序\n",
    "data = data.sort_values(by=label_column).reset_index(drop=True)\n",
    "\n",
    "# 建立一個空的 DataFrame 用於存放處理後的資料\n",
    "processed_data = pd.DataFrame(columns=data.columns)\n",
    "\n",
    "# 針對每個Label群組進行處理\n",
    "for label, group in data.groupby(label_column):\n",
    "    # 刪除前n筆和後n筆資料\n",
    "    if len(group) > 2 * n:  # 確保群組資料足夠\n",
    "        group = group.iloc[n:-n]\n",
    "    else:\n",
    "        group = pd.DataFrame()  # 若資料不足，刪除整個群組\n",
    "    # 將處理後的群組資料加入\n",
    "    processed_data = pd.concat([processed_data, group], ignore_index=True)\n",
    "\n",
    "processed_data\n"
   ]
  },
  {
   "cell_type": "code",
   "execution_count": 61,
   "metadata": {},
   "outputs": [
    {
     "name": "stdout",
     "output_type": "stream",
     "text": [
      "Number of rows with NaN values: 969\n",
      "Rows with NaN values:\n",
      "      Label  AP2_Distance (mm)  AP4_Distance (mm)  AP2_StdDev (mm)  \\\n",
      "5       1-1             6811.0                NaN           1275.0   \n",
      "43      1-1             6958.0                NaN           1146.0   \n",
      "65      1-1             6665.0                NaN           1292.0   \n",
      "68      1-1                NaN             -889.0              NaN   \n",
      "79      1-1                NaN            -1028.0              NaN   \n",
      "...     ...                ...                ...              ...   \n",
      "19399  9-11             5639.0                NaN           1871.0   \n",
      "19418  9-11             5639.0                NaN           1916.0   \n",
      "19440  9-11                NaN             4793.0              NaN   \n",
      "19500  9-11                NaN             4764.0              NaN   \n",
      "19526  9-11                NaN             4081.0              NaN   \n",
      "\n",
      "       AP4_StdDev (mm)  \n",
      "5                  NaN  \n",
      "43                 NaN  \n",
      "65                 NaN  \n",
      "68              1641.0  \n",
      "79              1616.0  \n",
      "...                ...  \n",
      "19399              NaN  \n",
      "19418              NaN  \n",
      "19440            121.0  \n",
      "19500            122.0  \n",
      "19526            802.0  \n",
      "\n",
      "[969 rows x 5 columns]\n"
     ]
    }
   ],
   "source": [
    "# Calculate the number of rows with NaN values\n",
    "nan_rows = processed_data.isnull().any(axis=1).sum()\n",
    "\n",
    "# Print the result\n",
    "print(f\"Number of rows with NaN values: {nan_rows}\")\n",
    "\n",
    "# 找出包含 NaN 的列\n",
    "rows_with_nan = processed_data[processed_data.isnull().any(axis=1)]\n",
    "\n",
    "# 印出這些列\n",
    "print(\"Rows with NaN values:\")\n",
    "print(rows_with_nan)"
   ]
  },
  {
   "cell_type": "code",
   "execution_count": 62,
   "metadata": {},
   "outputs": [
    {
     "data": {
      "text/html": [
       "<div>\n",
       "<style scoped>\n",
       "    .dataframe tbody tr th:only-of-type {\n",
       "        vertical-align: middle;\n",
       "    }\n",
       "\n",
       "    .dataframe tbody tr th {\n",
       "        vertical-align: top;\n",
       "    }\n",
       "\n",
       "    .dataframe thead th {\n",
       "        text-align: right;\n",
       "    }\n",
       "</style>\n",
       "<table border=\"1\" class=\"dataframe\">\n",
       "  <thead>\n",
       "    <tr style=\"text-align: right;\">\n",
       "      <th></th>\n",
       "      <th>Label</th>\n",
       "      <th>level_1</th>\n",
       "      <th>AP2_Distance (mm)</th>\n",
       "      <th>AP4_Distance (mm)</th>\n",
       "      <th>AP2_StdDev (mm)</th>\n",
       "      <th>AP4_StdDev (mm)</th>\n",
       "    </tr>\n",
       "  </thead>\n",
       "  <tbody>\n",
       "    <tr>\n",
       "      <th>0</th>\n",
       "      <td>1-1</td>\n",
       "      <td>0</td>\n",
       "      <td>6811.0</td>\n",
       "      <td>-811.0</td>\n",
       "      <td>1239.0</td>\n",
       "      <td>1318.0</td>\n",
       "    </tr>\n",
       "    <tr>\n",
       "      <th>1</th>\n",
       "      <td>1-1</td>\n",
       "      <td>1</td>\n",
       "      <td>6841.0</td>\n",
       "      <td>-850.0</td>\n",
       "      <td>1262.0</td>\n",
       "      <td>1503.0</td>\n",
       "    </tr>\n",
       "    <tr>\n",
       "      <th>2</th>\n",
       "      <td>1-1</td>\n",
       "      <td>2</td>\n",
       "      <td>6841.0</td>\n",
       "      <td>-733.0</td>\n",
       "      <td>1265.0</td>\n",
       "      <td>1350.0</td>\n",
       "    </tr>\n",
       "    <tr>\n",
       "      <th>3</th>\n",
       "      <td>1-1</td>\n",
       "      <td>3</td>\n",
       "      <td>6811.0</td>\n",
       "      <td>-743.0</td>\n",
       "      <td>1275.0</td>\n",
       "      <td>1421.0</td>\n",
       "    </tr>\n",
       "    <tr>\n",
       "      <th>4</th>\n",
       "      <td>1-1</td>\n",
       "      <td>4</td>\n",
       "      <td>6811.0</td>\n",
       "      <td>-889.0</td>\n",
       "      <td>1318.0</td>\n",
       "      <td>1500.0</td>\n",
       "    </tr>\n",
       "    <tr>\n",
       "      <th>...</th>\n",
       "      <td>...</td>\n",
       "      <td>...</td>\n",
       "      <td>...</td>\n",
       "      <td>...</td>\n",
       "      <td>...</td>\n",
       "      <td>...</td>\n",
       "    </tr>\n",
       "    <tr>\n",
       "      <th>19546</th>\n",
       "      <td>9-11</td>\n",
       "      <td>19546</td>\n",
       "      <td>6255.0</td>\n",
       "      <td>5145.0</td>\n",
       "      <td>763.0</td>\n",
       "      <td>1005.0</td>\n",
       "    </tr>\n",
       "    <tr>\n",
       "      <th>19547</th>\n",
       "      <td>9-11</td>\n",
       "      <td>19547</td>\n",
       "      <td>7866.0</td>\n",
       "      <td>4500.0</td>\n",
       "      <td>910.0</td>\n",
       "      <td>278.0</td>\n",
       "    </tr>\n",
       "    <tr>\n",
       "      <th>19548</th>\n",
       "      <td>9-11</td>\n",
       "      <td>19548</td>\n",
       "      <td>8100.0</td>\n",
       "      <td>4998.0</td>\n",
       "      <td>832.0</td>\n",
       "      <td>1038.0</td>\n",
       "    </tr>\n",
       "    <tr>\n",
       "      <th>19549</th>\n",
       "      <td>9-11</td>\n",
       "      <td>19549</td>\n",
       "      <td>8061.0</td>\n",
       "      <td>4461.0</td>\n",
       "      <td>878.0</td>\n",
       "      <td>1585.0</td>\n",
       "    </tr>\n",
       "    <tr>\n",
       "      <th>19550</th>\n",
       "      <td>9-11</td>\n",
       "      <td>19550</td>\n",
       "      <td>6030.0</td>\n",
       "      <td>4774.0</td>\n",
       "      <td>1142.0</td>\n",
       "      <td>145.0</td>\n",
       "    </tr>\n",
       "  </tbody>\n",
       "</table>\n",
       "<p>19551 rows × 6 columns</p>\n",
       "</div>"
      ],
      "text/plain": [
       "      Label  level_1  AP2_Distance (mm)  AP4_Distance (mm)  AP2_StdDev (mm)  \\\n",
       "0       1-1        0             6811.0             -811.0           1239.0   \n",
       "1       1-1        1             6841.0             -850.0           1262.0   \n",
       "2       1-1        2             6841.0             -733.0           1265.0   \n",
       "3       1-1        3             6811.0             -743.0           1275.0   \n",
       "4       1-1        4             6811.0             -889.0           1318.0   \n",
       "...     ...      ...                ...                ...              ...   \n",
       "19546  9-11    19546             6255.0             5145.0            763.0   \n",
       "19547  9-11    19547             7866.0             4500.0            910.0   \n",
       "19548  9-11    19548             8100.0             4998.0            832.0   \n",
       "19549  9-11    19549             8061.0             4461.0            878.0   \n",
       "19550  9-11    19550             6030.0             4774.0           1142.0   \n",
       "\n",
       "       AP4_StdDev (mm)  \n",
       "0               1318.0  \n",
       "1               1503.0  \n",
       "2               1350.0  \n",
       "3               1421.0  \n",
       "4               1500.0  \n",
       "...                ...  \n",
       "19546           1005.0  \n",
       "19547            278.0  \n",
       "19548           1038.0  \n",
       "19549           1585.0  \n",
       "19550            145.0  \n",
       "\n",
       "[19551 rows x 6 columns]"
      ]
     },
     "execution_count": 62,
     "metadata": {},
     "output_type": "execute_result"
    }
   ],
   "source": [
    "data_imputed = processed_data.groupby(label_column).apply(\n",
    "    lambda group: group.fillna(group.mean())\n",
    ").reset_index()\n",
    "data_imputed"
   ]
  },
  {
   "cell_type": "code",
   "execution_count": 63,
   "metadata": {},
   "outputs": [
    {
     "name": "stdout",
     "output_type": "stream",
     "text": [
      "Final reverse_label_mapping in DNN: {'1-1': 10, '1-2': 9, '1-3': 8, '1-4': 7, '1-5': 6, '1-6': 5, '1-7': 4, '1-8': 3, '1-9': 2, '1-10': 1, '1-11': 0, '2-1': 11, '2-11': 29, '3-1': 12, '3-11': 28, '4-1': 13, '4-11': 27, '5-1': 14, '5-11': 26, '6-1': 15, '6-2': 16, '6-3': 17, '6-4': 18, '6-5': 19, '6-6': 20, '6-7': 21, '6-8': 22, '6-9': 23, '6-10': 24, '6-11': 25, '7-1': 48, '7-11': 30, '8-1': 47, '8-11': 31, '9-1': 46, '9-11': 32, '10-1': 45, '10-11': 33, '11-1': 44, '11-2': 43, '11-3': 42, '11-4': 41, '11-5': 40, '11-6': 39, '11-7': 38, '11-8': 37, '11-9': 36, '11-10': 35, '11-11': 34}\n",
      "y_numeric unique values in DNN: [10  1  0  9  8  7  6  5  4  3  2 45 33 44 35 34 43 42 41 40 39 38 37 36\n",
      " 11 29 12 28 13 27 14 26 15 24 25 16 17 18 19 20 21 22 23 48 30 47 31 46\n",
      " 32]\n"
     ]
    }
   ],
   "source": [
    "# 建立 Label 映射\n",
    "y = data_imputed[target_column]\n",
    "# label_mapping = {str(i): label for i, label in enumerate(y.unique())}\n",
    "reverse_label_mapping = {v: int(k) - 1 for k, v in label_mapping.items()}  # 讓數字標籤 -1\n",
    "y_numeric = y.map(reverse_label_mapping)\n",
    "\n",
    "print(\"Final reverse_label_mapping in DNN:\", reverse_label_mapping)\n",
    "print(\"y_numeric unique values in DNN:\", y_numeric.unique())"
   ]
  },
  {
   "cell_type": "code",
   "execution_count": 64,
   "metadata": {},
   "outputs": [
    {
     "name": "stdout",
     "output_type": "stream",
     "text": [
      "[ 0.54172408 -1.44422436  0.73583945  0.77925024]\n"
     ]
    },
    {
     "data": {
      "text/html": [
       "<div>\n",
       "<style scoped>\n",
       "    .dataframe tbody tr th:only-of-type {\n",
       "        vertical-align: middle;\n",
       "    }\n",
       "\n",
       "    .dataframe tbody tr th {\n",
       "        vertical-align: top;\n",
       "    }\n",
       "\n",
       "    .dataframe thead th {\n",
       "        text-align: right;\n",
       "    }\n",
       "</style>\n",
       "<table border=\"1\" class=\"dataframe\">\n",
       "  <thead>\n",
       "    <tr style=\"text-align: right;\">\n",
       "      <th></th>\n",
       "      <th>AP2_Distance (mm)</th>\n",
       "      <th>AP4_Distance (mm)</th>\n",
       "      <th>AP2_StdDev (mm)</th>\n",
       "      <th>AP4_StdDev (mm)</th>\n",
       "    </tr>\n",
       "  </thead>\n",
       "  <tbody>\n",
       "    <tr>\n",
       "      <th>0</th>\n",
       "      <td>6811.0</td>\n",
       "      <td>-811.0</td>\n",
       "      <td>1239.0</td>\n",
       "      <td>1318.0</td>\n",
       "    </tr>\n",
       "    <tr>\n",
       "      <th>1</th>\n",
       "      <td>6841.0</td>\n",
       "      <td>-850.0</td>\n",
       "      <td>1262.0</td>\n",
       "      <td>1503.0</td>\n",
       "    </tr>\n",
       "    <tr>\n",
       "      <th>2</th>\n",
       "      <td>6841.0</td>\n",
       "      <td>-733.0</td>\n",
       "      <td>1265.0</td>\n",
       "      <td>1350.0</td>\n",
       "    </tr>\n",
       "    <tr>\n",
       "      <th>3</th>\n",
       "      <td>6811.0</td>\n",
       "      <td>-743.0</td>\n",
       "      <td>1275.0</td>\n",
       "      <td>1421.0</td>\n",
       "    </tr>\n",
       "    <tr>\n",
       "      <th>4</th>\n",
       "      <td>6811.0</td>\n",
       "      <td>-889.0</td>\n",
       "      <td>1318.0</td>\n",
       "      <td>1500.0</td>\n",
       "    </tr>\n",
       "    <tr>\n",
       "      <th>...</th>\n",
       "      <td>...</td>\n",
       "      <td>...</td>\n",
       "      <td>...</td>\n",
       "      <td>...</td>\n",
       "    </tr>\n",
       "    <tr>\n",
       "      <th>19546</th>\n",
       "      <td>6255.0</td>\n",
       "      <td>5145.0</td>\n",
       "      <td>763.0</td>\n",
       "      <td>1005.0</td>\n",
       "    </tr>\n",
       "    <tr>\n",
       "      <th>19547</th>\n",
       "      <td>7866.0</td>\n",
       "      <td>4500.0</td>\n",
       "      <td>910.0</td>\n",
       "      <td>278.0</td>\n",
       "    </tr>\n",
       "    <tr>\n",
       "      <th>19548</th>\n",
       "      <td>8100.0</td>\n",
       "      <td>4998.0</td>\n",
       "      <td>832.0</td>\n",
       "      <td>1038.0</td>\n",
       "    </tr>\n",
       "    <tr>\n",
       "      <th>19549</th>\n",
       "      <td>8061.0</td>\n",
       "      <td>4461.0</td>\n",
       "      <td>878.0</td>\n",
       "      <td>1585.0</td>\n",
       "    </tr>\n",
       "    <tr>\n",
       "      <th>19550</th>\n",
       "      <td>6030.0</td>\n",
       "      <td>4774.0</td>\n",
       "      <td>1142.0</td>\n",
       "      <td>145.0</td>\n",
       "    </tr>\n",
       "  </tbody>\n",
       "</table>\n",
       "<p>19551 rows × 4 columns</p>\n",
       "</div>"
      ],
      "text/plain": [
       "       AP2_Distance (mm)  AP4_Distance (mm)  AP2_StdDev (mm)  AP4_StdDev (mm)\n",
       "0                 6811.0             -811.0           1239.0           1318.0\n",
       "1                 6841.0             -850.0           1262.0           1503.0\n",
       "2                 6841.0             -733.0           1265.0           1350.0\n",
       "3                 6811.0             -743.0           1275.0           1421.0\n",
       "4                 6811.0             -889.0           1318.0           1500.0\n",
       "...                  ...                ...              ...              ...\n",
       "19546             6255.0             5145.0            763.0           1005.0\n",
       "19547             7866.0             4500.0            910.0            278.0\n",
       "19548             8100.0             4998.0            832.0           1038.0\n",
       "19549             8061.0             4461.0            878.0           1585.0\n",
       "19550             6030.0             4774.0           1142.0            145.0\n",
       "\n",
       "[19551 rows x 4 columns]"
      ]
     },
     "execution_count": 64,
     "metadata": {},
     "output_type": "execute_result"
    }
   ],
   "source": [
    "# 把label部分拿掉\n",
    "X = data_imputed.drop(columns=['level_1','Label'])\n",
    "\n",
    "scaler = StandardScaler()\n",
    "columns_to_scale = selected_columns.copy()  # 建立副本，避免影響原始變數\n",
    "columns_to_scale.remove('Label')  # 在副本上移除 'Label'\n",
    "X_scaled = scaler.fit_transform(X[columns_to_scale])\n",
    "\n",
    "# 保存標準化器\n",
    "joblib.dump(scaler, f'scaler_{what_data}.pkl')\n",
    "\n",
    "print(X_scaled[0])\n",
    "\n",
    "X"
   ]
  },
  {
   "cell_type": "code",
   "execution_count": 65,
   "metadata": {},
   "outputs": [],
   "source": [
    "# 設定 KFold 交叉驗證\n",
    "kf = KFold(n_splits=5, shuffle=True, random_state=42)\n",
    "all_y_test, all_y_test_pred = [], []\n",
    "overall_accuracy, overall_mde = [], []\n",
    "mde_report, fold_reports = {}, []\n",
    "fold_index = 1\n",
    "\n",
    "mde_report_per_fold = {}\n",
    "\n",
    "# 初始化最佳 MDE 變數\n",
    "best_mde = float('inf')  # 設為無限大，確保第一個 fold 一定會更新\n",
    "best_model = None  # 儲存最佳模型"
   ]
  },
  {
   "cell_type": "code",
   "execution_count": 66,
   "metadata": {},
   "outputs": [
    {
     "name": "stdout",
     "output_type": "stream",
     "text": [
      "X type\n",
      "AP2_Distance (mm)    float64\n",
      "AP4_Distance (mm)    float64\n",
      "AP2_StdDev (mm)      float64\n",
      "AP4_StdDev (mm)      float64\n",
      "dtype: object\n",
      "y type\n",
      "object\n"
     ]
    }
   ],
   "source": [
    "print(\"X type\")\n",
    "print(X.dtypes)\n",
    "print(\"y type\")\n",
    "print(y.dtypes)"
   ]
  },
  {
   "cell_type": "markdown",
   "metadata": {},
   "source": [
    "### 5 fold"
   ]
  },
  {
   "cell_type": "code",
   "execution_count": null,
   "metadata": {},
   "outputs": [
    {
     "name": "stdout",
     "output_type": "stream",
     "text": [
      "123/123 [==============================] - 0s 1ms/step\n",
      "Fold 1 - MDE: 0.0434\n",
      "-> New best model found at Fold 1 with MDE: 0.0434\n",
      "123/123 [==============================] - 0s 897us/step\n",
      "Fold 2 - MDE: 0.0405\n",
      "-> New best model found at Fold 2 with MDE: 0.0405\n",
      "123/123 [==============================] - 0s 902us/step\n",
      "Fold 3 - MDE: 0.0518\n",
      "123/123 [==============================] - 0s 1ms/step\n",
      "Fold 4 - MDE: 0.0598\n",
      "123/123 [==============================] - 0s 887us/step\n",
      "Fold 5 - MDE: 0.0543\n",
      "5-Fold Average MDE report saved to: 2mcAP_FTMonly_WORST_2024_12_14_mde\n",
      "Best DNN model saved with MDE: 0.0405\n"
     ]
    },
    {
     "name": "stderr",
     "output_type": "stream",
     "text": [
      "/home/mcslab/anaconda3/envs/yang_cuda3/lib/python3.10/site-packages/keras/src/engine/training.py:3103: UserWarning: You are saving your model as an HDF5 file via `model.save()`. This file format is considered legacy. We recommend using instead the native Keras format, e.g. `model.save('my_model.keras')`.\n",
      "  saving_api.save_model(\n"
     ]
    }
   ],
   "source": [
    "# 進行 5-Fold 交叉驗證\n",
    "for train_index, test_index in kf.split(X_scaled):\n",
    "    #original\n",
    "    # X_train, X_test = X_scaled[train_index], X_scaled[test_index]\n",
    "    # y_train, y_test = y_numeric.iloc[train_index], y_numeric.iloc[test_index]\n",
    "\n",
    "    X_train_full, X_test = X_scaled[train_index], X_scaled[test_index]\n",
    "    y_train_full, y_test = y_numeric.iloc[train_index], y_numeric.iloc[test_index]\n",
    "\n",
    "    # # 從 Train Data 再切 10% 給 Validation Set\n",
    "    # X_train, X_val, y_train, y_val = train_test_split(\n",
    "    #     X_train_full, y_train_full, test_size=0.1, random_state=42, stratify=y_train_full\n",
    "    # )\n",
    "    X_train = X_train_full\n",
    "    y_train = y_train_full\n",
    "\n",
    "    \n",
    "\n",
    "    # 建立 DNN 模型\n",
    "    model = keras.Sequential([\n",
    "        keras.layers.Dense(64, activation='relu', input_shape=(X_train.shape[1],)),\n",
    "        keras.layers.Dense(128, activation='relu'),\n",
    "        keras.layers.Dense(64, activation='relu'),\n",
    "        keras.layers.Dense(len(label_mapping), activation='softmax')\n",
    "    ])\n",
    "\n",
    "    # 編譯模型\n",
    "    model.compile(optimizer='adam', loss='sparse_categorical_crossentropy', metrics=['accuracy'])\n",
    "\n",
    "    # 設定 EarlyStopping 回呼函數\n",
    "    early_stop = EarlyStopping(monitor='loss', patience=10, restore_best_weights=True)\n",
    "\n",
    "    # 訓練模型，包含驗證集\n",
    "    model.fit(X_train, y_train, \n",
    "              \n",
    "              epochs=10000, batch_size=32, verbose=0, callbacks=[early_stop])\n",
    "    #  validation_data=(X_val, y_val),  # ✅ 這裡新增驗證集\n",
    "    \n",
    "\n",
    "    # 進行預測\n",
    "    y_test_pred_numeric = model.predict(X_test)\n",
    "    y_pred_classes = np.argmax(y_test_pred_numeric, axis=1)\n",
    "    y_test_pred_labels = [label_mapping[str(num + 1)] for num in y_pred_classes]  # 補回 +1\n",
    "\n",
    "\n",
    "    # 計算 MDE\n",
    "    y_test_pred_coordinates = np.array([label_to_coordinates[label] for label in y_test_pred_labels])\n",
    "    y_test_coordinates = np.array([label_to_coordinates[label_mapping[str(label + 1)]] for label in y_test])\n",
    "\n",
    "\n",
    "    distances = np.linalg.norm(y_test_pred_coordinates - y_test_coordinates, axis=1)\n",
    "    fold_mde = np.mean(distances)\n",
    "    overall_mde.append(fold_mde)\n",
    "\n",
    "    # 記錄每個 RP 在當前 fold 的 MDE\n",
    "    for true_label, distance in zip(y_test, distances):\n",
    "        if true_label not in mde_report_per_fold:\n",
    "            mde_report_per_fold[true_label] = []\n",
    "        mde_report_per_fold[true_label].append(distance)  # 存所有 fold 的 MDE\n",
    "\n",
    "\n",
    "    print(f\"Fold {fold_index} - MDE: {fold_mde:.4f}\")\n",
    "\n",
    "    # 檢查是否為最佳模型\n",
    "    if fold_mde < best_mde:\n",
    "        best_mde = fold_mde\n",
    "        best_model = model  # 更新最佳模型\n",
    "        print(f\"-> New best model found at Fold {fold_index} with MDE: {best_mde:.4f}\")\n",
    "    \n",
    "\n",
    "    fold_index += 1\n",
    "    \n",
    "\n",
    "# 計算 5-Fold 平均 MDE\n",
    "mde_report_avg = {label: {\"mde\": np.mean(distances), \"count\": len(distances)} for label, distances in mde_report_per_fold.items()}\n",
    "\n",
    "# 儲存到 JSON 檔案\n",
    "file_path = \"2mcAP_FTMonly_BEST_2024_12_14_mde\"\n",
    "with open(file_path, \"w\") as f:\n",
    "    json.dump(mde_report_avg, f, indent=4)\n",
    "\n",
    "print(f\"5-Fold Average MDE report saved to: {file_path}\")\n",
    "\n",
    "# 儲存最佳模型\n",
    "if best_model:\n",
    "    best_model.save(f\"DNN_best_model{what_data}.h5\")\n",
    "    print(f\"Best DNN model saved with MDE: {best_mde:.4f}\")\n",
    "else:\n",
    "    print(\"No best model found!\")"
   ]
  },
  {
   "cell_type": "code",
   "execution_count": 68,
   "metadata": {},
   "outputs": [
    {
     "name": "stdout",
     "output_type": "stream",
     "text": [
      "\n",
      "5-Fold Mean MDE: 0.0500 meters\n"
     ]
    }
   ],
   "source": [
    "# 計算 5-Fold 平均 MDE\n",
    "mean_mde = np.mean(overall_mde)\n",
    "print(f\"\\n5-Fold Mean MDE: {mean_mde:.4f} meters\")"
   ]
  },
  {
   "cell_type": "markdown",
   "metadata": {},
   "source": [
    "# 測試模型"
   ]
  },
  {
   "cell_type": "code",
   "execution_count": null,
   "metadata": {},
   "outputs": [],
   "source": [
    "X_testing_selected_columns = ['AP1_Distance (mm)','AP3_Distance (mm)',\n",
    "                              'AP1_StdDev (mm)','AP3_StdDev (mm)',\n",
    "\n",
    "                                'AP1_Rssi','AP2_Rssi','AP3_Rssi','AP4_Rssi']  \n",
    "# 'AP1_Distance (mm)','AP2_Distance (mm)','AP3_Distance (mm)','AP4_Distance (mm)',\n",
    "# 'AP1_StdDev (mm)','AP2_StdDev (mm)','AP3_StdDev (mm)','AP4_StdDev (mm)',"
   ]
  },
  {
   "cell_type": "code",
   "execution_count": 49,
   "metadata": {},
   "outputs": [],
   "source": [
    "# 讀取測試資料\n",
    "test_file_path = \"timestamp_allignment_Balanced_2025_02_28_rtt_logs.csv\"  # 測試資料的檔案名稱\n",
    "date_test = \"2025_02_28\"\n",
    "modelname = \"DNN only distance mcAPs\"\n",
    "test_data = pd.read_csv(test_file_path, usecols=selected_columns)\n",
    "# test_data"
   ]
  },
  {
   "cell_type": "code",
   "execution_count": 50,
   "metadata": {},
   "outputs": [],
   "source": [
    "# 資料前處理 (一): 刪除前後n筆資料\n",
    "n = 20\n",
    "# 確保依據Label排序\n",
    "test_data = test_data.sort_values(by=label_column).reset_index(drop=True)\n",
    "\n",
    "# 建立一個空的 DataFrame 用於存放處理後的資料\n",
    "test_processed_data = pd.DataFrame(columns=test_data.columns)\n",
    "\n",
    "# 針對每個Label群組進行處理\n",
    "for label, group in test_data.groupby(label_column):\n",
    "    # 刪除前n筆和後n筆資料\n",
    "    if len(group) > 2 * n:  # 確保群組資料足夠\n",
    "        group = group.iloc[n:-n]\n",
    "    else:\n",
    "        group = pd.DataFrame()  # 若資料不足，刪除整個群組\n",
    "    # 將處理後的群組資料加入\n",
    "    test_processed_data = pd.concat([test_processed_data, group], ignore_index=True)\n",
    "\n",
    "# test_processed_data"
   ]
  },
  {
   "cell_type": "code",
   "execution_count": 51,
   "metadata": {},
   "outputs": [
    {
     "name": "stdout",
     "output_type": "stream",
     "text": [
      "Number of rows with NaN values: 1026\n"
     ]
    }
   ],
   "source": [
    "# Calculate the number of rows with NaN values\n",
    "nan_rows = test_processed_data.isnull().any(axis=1).sum()\n",
    "\n",
    "# Print the result\n",
    "print(f\"Number of rows with NaN values: {nan_rows}\")\n",
    "\n",
    "# 找出包含 NaN 的列\n",
    "rows_with_nan = test_processed_data[test_processed_data.isnull().any(axis=1)]\n",
    "\n",
    "# # 印出這些列\n",
    "# print(\"Rows with NaN values:\")\n",
    "# print(rows_with_nan)"
   ]
  },
  {
   "cell_type": "code",
   "execution_count": 52,
   "metadata": {},
   "outputs": [
    {
     "name": "stdout",
     "output_type": "stream",
     "text": [
      "Number of rows with NaN values: 0\n"
     ]
    }
   ],
   "source": [
    "test_data_imputed = test_processed_data.groupby(label_column).apply(\n",
    "    lambda group: group.fillna(group.mean())\n",
    ").reset_index()\n",
    "\n",
    "# Calculate the number of rows with NaN values\n",
    "nan_rows = test_data_imputed.isnull().any(axis=1).sum()\n",
    "\n",
    "# Print the result\n",
    "print(f\"Number of rows with NaN values: {nan_rows}\")\n",
    "\n",
    "# 找出包含 NaN 的列\n",
    "rows_with_nan = test_data_imputed[test_data_imputed.isnull().any(axis=1)]\n",
    "\n",
    "# test_data_imputed"
   ]
  },
  {
   "cell_type": "code",
   "execution_count": 53,
   "metadata": {},
   "outputs": [
    {
     "name": "stdout",
     "output_type": "stream",
     "text": [
      "Final reverse_label_mapping in DNN: {'1-1': 10, '1-2': 9, '1-3': 8, '1-4': 7, '1-5': 6, '1-6': 5, '1-7': 4, '1-8': 3, '1-9': 2, '1-10': 1, '1-11': 0, '2-1': 11, '2-11': 29, '3-1': 12, '3-11': 28, '4-1': 13, '4-11': 27, '5-1': 14, '5-11': 26, '6-1': 15, '6-2': 16, '6-3': 17, '6-4': 18, '6-5': 19, '6-6': 20, '6-7': 21, '6-8': 22, '6-9': 23, '6-10': 24, '6-11': 25, '7-1': 48, '7-11': 30, '8-1': 47, '8-11': 31, '9-1': 46, '9-11': 32, '10-1': 45, '10-11': 33, '11-1': 44, '11-2': 43, '11-3': 42, '11-4': 41, '11-5': 40, '11-6': 39, '11-7': 38, '11-8': 37, '11-9': 36, '11-10': 35, '11-11': 34}\n",
      "y_numeric unique values in DNN: [10  1  0  9  8  7  6  5  4  3  2 45 33 44 35 34 43 42 41 40 39 38 37 36\n",
      " 11 29 12 28 13 27 14 26 15 24 25 16 17 18 19 20 21 22 23 48 30 47 31 46\n",
      " 32]\n"
     ]
    },
    {
     "ename": "KeyError",
     "evalue": "\"['AP1_Distance (mm)', 'AP3_Distance (mm)', 'AP1_StdDev (mm)', 'AP3_StdDev (mm)'] not in index\"",
     "output_type": "error",
     "traceback": [
      "\u001b[0;31m---------------------------------------------------------------------------\u001b[0m",
      "\u001b[0;31mKeyError\u001b[0m                                  Traceback (most recent call last)",
      "Cell \u001b[0;32mIn[53], line 11\u001b[0m\n\u001b[1;32m      9\u001b[0m X_test \u001b[38;5;241m=\u001b[39m test_data_imputed\u001b[38;5;241m.\u001b[39mdrop(columns\u001b[38;5;241m=\u001b[39m[\u001b[38;5;124m'\u001b[39m\u001b[38;5;124mlevel_1\u001b[39m\u001b[38;5;124m'\u001b[39m,\u001b[38;5;124m'\u001b[39m\u001b[38;5;124mLabel\u001b[39m\u001b[38;5;124m'\u001b[39m])\n\u001b[1;32m     10\u001b[0m \u001b[38;5;66;03m# 確保測試資料的特徵與訓練資料的特徵一致\u001b[39;00m\n\u001b[0;32m---> 11\u001b[0m X_test \u001b[38;5;241m=\u001b[39m \u001b[43mX_test\u001b[49m\u001b[43m[\u001b[49m\u001b[43mX_testing_selected_columns\u001b[49m\u001b[43m]\u001b[49m  \u001b[38;5;66;03m# 選取相同的特徵\u001b[39;00m\n\u001b[1;32m     14\u001b[0m \u001b[38;5;66;03m# y_test_numeric\u001b[39;00m\n",
      "File \u001b[0;32m~/.local/lib/python3.8/site-packages/pandas/core/frame.py:3767\u001b[0m, in \u001b[0;36mDataFrame.__getitem__\u001b[0;34m(self, key)\u001b[0m\n\u001b[1;32m   3765\u001b[0m     \u001b[38;5;28;01mif\u001b[39;00m is_iterator(key):\n\u001b[1;32m   3766\u001b[0m         key \u001b[38;5;241m=\u001b[39m \u001b[38;5;28mlist\u001b[39m(key)\n\u001b[0;32m-> 3767\u001b[0m     indexer \u001b[38;5;241m=\u001b[39m \u001b[38;5;28;43mself\u001b[39;49m\u001b[38;5;241;43m.\u001b[39;49m\u001b[43mcolumns\u001b[49m\u001b[38;5;241;43m.\u001b[39;49m\u001b[43m_get_indexer_strict\u001b[49m\u001b[43m(\u001b[49m\u001b[43mkey\u001b[49m\u001b[43m,\u001b[49m\u001b[43m \u001b[49m\u001b[38;5;124;43m\"\u001b[39;49m\u001b[38;5;124;43mcolumns\u001b[39;49m\u001b[38;5;124;43m\"\u001b[39;49m\u001b[43m)\u001b[49m[\u001b[38;5;241m1\u001b[39m]\n\u001b[1;32m   3769\u001b[0m \u001b[38;5;66;03m# take() does not accept boolean indexers\u001b[39;00m\n\u001b[1;32m   3770\u001b[0m \u001b[38;5;28;01mif\u001b[39;00m \u001b[38;5;28mgetattr\u001b[39m(indexer, \u001b[38;5;124m\"\u001b[39m\u001b[38;5;124mdtype\u001b[39m\u001b[38;5;124m\"\u001b[39m, \u001b[38;5;28;01mNone\u001b[39;00m) \u001b[38;5;241m==\u001b[39m \u001b[38;5;28mbool\u001b[39m:\n",
      "File \u001b[0;32m~/.local/lib/python3.8/site-packages/pandas/core/indexes/base.py:5877\u001b[0m, in \u001b[0;36mIndex._get_indexer_strict\u001b[0;34m(self, key, axis_name)\u001b[0m\n\u001b[1;32m   5874\u001b[0m \u001b[38;5;28;01melse\u001b[39;00m:\n\u001b[1;32m   5875\u001b[0m     keyarr, indexer, new_indexer \u001b[38;5;241m=\u001b[39m \u001b[38;5;28mself\u001b[39m\u001b[38;5;241m.\u001b[39m_reindex_non_unique(keyarr)\n\u001b[0;32m-> 5877\u001b[0m \u001b[38;5;28;43mself\u001b[39;49m\u001b[38;5;241;43m.\u001b[39;49m\u001b[43m_raise_if_missing\u001b[49m\u001b[43m(\u001b[49m\u001b[43mkeyarr\u001b[49m\u001b[43m,\u001b[49m\u001b[43m \u001b[49m\u001b[43mindexer\u001b[49m\u001b[43m,\u001b[49m\u001b[43m \u001b[49m\u001b[43maxis_name\u001b[49m\u001b[43m)\u001b[49m\n\u001b[1;32m   5879\u001b[0m keyarr \u001b[38;5;241m=\u001b[39m \u001b[38;5;28mself\u001b[39m\u001b[38;5;241m.\u001b[39mtake(indexer)\n\u001b[1;32m   5880\u001b[0m \u001b[38;5;28;01mif\u001b[39;00m \u001b[38;5;28misinstance\u001b[39m(key, Index):\n\u001b[1;32m   5881\u001b[0m     \u001b[38;5;66;03m# GH 42790 - Preserve name from an Index\u001b[39;00m\n",
      "File \u001b[0;32m~/.local/lib/python3.8/site-packages/pandas/core/indexes/base.py:5941\u001b[0m, in \u001b[0;36mIndex._raise_if_missing\u001b[0;34m(self, key, indexer, axis_name)\u001b[0m\n\u001b[1;32m   5938\u001b[0m     \u001b[38;5;28;01mraise\u001b[39;00m \u001b[38;5;167;01mKeyError\u001b[39;00m(\u001b[38;5;124mf\u001b[39m\u001b[38;5;124m\"\u001b[39m\u001b[38;5;124mNone of [\u001b[39m\u001b[38;5;132;01m{\u001b[39;00mkey\u001b[38;5;132;01m}\u001b[39;00m\u001b[38;5;124m] are in the [\u001b[39m\u001b[38;5;132;01m{\u001b[39;00maxis_name\u001b[38;5;132;01m}\u001b[39;00m\u001b[38;5;124m]\u001b[39m\u001b[38;5;124m\"\u001b[39m)\n\u001b[1;32m   5940\u001b[0m not_found \u001b[38;5;241m=\u001b[39m \u001b[38;5;28mlist\u001b[39m(ensure_index(key)[missing_mask\u001b[38;5;241m.\u001b[39mnonzero()[\u001b[38;5;241m0\u001b[39m]]\u001b[38;5;241m.\u001b[39munique())\n\u001b[0;32m-> 5941\u001b[0m \u001b[38;5;28;01mraise\u001b[39;00m \u001b[38;5;167;01mKeyError\u001b[39;00m(\u001b[38;5;124mf\u001b[39m\u001b[38;5;124m\"\u001b[39m\u001b[38;5;132;01m{\u001b[39;00mnot_found\u001b[38;5;132;01m}\u001b[39;00m\u001b[38;5;124m not in index\u001b[39m\u001b[38;5;124m\"\u001b[39m)\n",
      "\u001b[0;31mKeyError\u001b[0m: \"['AP1_Distance (mm)', 'AP3_Distance (mm)', 'AP1_StdDev (mm)', 'AP3_StdDev (mm)'] not in index\""
     ]
    }
   ],
   "source": [
    "# 建立 Label 映射\n",
    "y_test = test_data_imputed[target_column]\n",
    "y_test_numeric = y_test.map(reverse_label_mapping)\n",
    "\n",
    "print(\"Final reverse_label_mapping in DNN:\", reverse_label_mapping)\n",
    "print(\"y_numeric unique values in DNN:\", y_test_numeric.unique())\n",
    "\n",
    "# 把label部分拿掉\n",
    "X_test = test_data_imputed.drop(columns=['level_1','Label'])\n",
    "# 確保測試資料的特徵與訓練資料的特徵一致\n",
    "X_test = X_test[X_testing_selected_columns]  # 選取相同的特徵\n",
    "\n",
    "\n",
    "# y_test_numeric"
   ]
  },
  {
   "cell_type": "code",
   "execution_count": null,
   "metadata": {},
   "outputs": [
    {
     "name": "stdout",
     "output_type": "stream",
     "text": [
      "17934\n"
     ]
    }
   ],
   "source": [
    "# 使用之前訓練時的標準化器 (scaler) 來標準化測試數據\n",
    "X_test_scaled = scaler.transform(X_test)\n",
    "\n",
    "print(len(X_test_scaled))"
   ]
  },
  {
   "cell_type": "markdown",
   "metadata": {},
   "source": [
    "### 預測\n"
   ]
  },
  {
   "cell_type": "code",
   "execution_count": null,
   "metadata": {},
   "outputs": [
    {
     "name": "stdout",
     "output_type": "stream",
     "text": [
      "561/561 [==============================] - 0s 360us/step - loss: 22.4628 - accuracy: 0.1257\n"
     ]
    },
    {
     "data": {
      "text/plain": [
       "[22.46282958984375, 0.12568305432796478]"
      ]
     },
     "execution_count": 25,
     "metadata": {},
     "output_type": "execute_result"
    }
   ],
   "source": [
    "best_model.evaluate(X_test_scaled, y_test_numeric)  # 確保模型在測試模式"
   ]
  },
  {
   "cell_type": "code",
   "execution_count": null,
   "metadata": {},
   "outputs": [
    {
     "name": "stdout",
     "output_type": "stream",
     "text": [
      "  1/561 [..............................] - ETA: 4s"
     ]
    },
    {
     "name": "stdout",
     "output_type": "stream",
     "text": [
      "561/561 [==============================] - 0s 349us/step\n"
     ]
    }
   ],
   "source": [
    "# 預測測試資料\n",
    "y_test_pred_numeric = best_model.predict(X_test_scaled)\n",
    "y_pred_classes = np.argmax(y_test_pred_numeric, axis=1)"
   ]
  },
  {
   "cell_type": "code",
   "execution_count": null,
   "metadata": {},
   "outputs": [],
   "source": [
    "# 轉換為原本的 Label\n",
    "y_test_pred_labels = [label_mapping[str(num + 1)] for num in y_pred_classes]  # 補回 +1\n",
    "# y_test_pred_labels"
   ]
  },
  {
   "cell_type": "code",
   "execution_count": null,
   "metadata": {},
   "outputs": [],
   "source": [
    "# 讀取測試資料的實際 Label\n",
    "y_test_actual = test_data_imputed[target_column]\n",
    "# test_data_imputed"
   ]
  },
  {
   "cell_type": "code",
   "execution_count": null,
   "metadata": {},
   "outputs": [],
   "source": [
    "# 取得預測與實際座標\n",
    "y_test_pred_coordinates = np.array([label_to_coordinates[label] for label in y_test_pred_labels])\n",
    "y_test_actual_coordinates = np.array([label_to_coordinates[label] for label in y_test_actual])"
   ]
  },
  {
   "cell_type": "code",
   "execution_count": null,
   "metadata": {},
   "outputs": [
    {
     "name": "stdout",
     "output_type": "stream",
     "text": [
      "Test Data MDE report saved to: DNN only distance mcAPs_2025_02_28.json\n",
      "\n",
      "Test Data Mean MDE: 1.2490 meters\n"
     ]
    }
   ],
   "source": [
    "# 計算 MDE (Mean Distance Error)\n",
    "distances = np.linalg.norm(y_test_pred_coordinates - y_test_actual_coordinates, axis=1)\n",
    "mean_mde = np.mean(distances)\n",
    "\n",
    "# 記錄每個 RP 的 MDE\n",
    "mde_report_test = {}\n",
    "for true_label, distance in zip(y_test_actual, distances):\n",
    "    if true_label not in mde_report_test:\n",
    "        mde_report_test[true_label] = []\n",
    "    mde_report_test[true_label].append(distance)\n",
    "\n",
    "# 計算測試資料的 MDE 平均值\n",
    "mde_report_test_avg = {label: {\"mde\": np.mean(dists), \"count\": len(dists)} for label, dists in mde_report_test.items()}\n",
    "\n",
    "# 儲存 MDE 結果到 JSON 檔案\n",
    "test_file_path = f\"{modelname}_{date_test}.json\"\n",
    "with open(test_file_path, \"w\") as f:\n",
    "    json.dump(mde_report_test_avg, f, indent=4)\n",
    "\n",
    "print(f\"Test Data MDE report saved to: {test_file_path}\")\n",
    "print(f\"\\nTest Data Mean MDE: {mean_mde:.4f} meters\")\n"
   ]
  }
 ],
 "metadata": {
  "kernelspec": {
   "display_name": "yang_cuda3",
   "language": "python",
   "name": "python3"
  },
  "language_info": {
   "codemirror_mode": {
    "name": "ipython",
    "version": 3
   },
   "file_extension": ".py",
   "mimetype": "text/x-python",
   "name": "python",
   "nbconvert_exporter": "python",
   "pygments_lexer": "ipython3",
   "version": "3.10.16"
  }
 },
 "nbformat": 4,
 "nbformat_minor": 2
}
