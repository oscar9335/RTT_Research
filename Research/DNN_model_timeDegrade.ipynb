{
 "cells": [
  {
   "cell_type": "code",
   "execution_count": 97,
   "metadata": {},
   "outputs": [],
   "source": [
    "import pandas as pd\n",
    "import numpy as np\n",
    "import tensorflow as tf\n",
    "from tensorflow import keras\n",
    "from sklearn.model_selection import train_test_split\n",
    "from sklearn.metrics import accuracy_score\n",
    "import matplotlib.pyplot as plt\n",
    "from sklearn.metrics import confusion_matrix\n",
    "import seaborn as sns\n",
    "from sklearn.metrics import classification_report\n",
    "from sklearn.model_selection import KFold\n",
    "import json\n",
    "import os \n",
    "from sklearn.preprocessing import StandardScaler\n",
    "from tensorflow.keras.callbacks import EarlyStopping\n",
    "\n",
    "from sklearn.preprocessing import StandardScaler\n",
    "import joblib  # 用於保存模型"
   ]
  },
  {
   "cell_type": "markdown",
   "metadata": {},
   "source": [
    "# 訓練模型"
   ]
  },
  {
   "cell_type": "code",
   "execution_count": null,
   "metadata": {},
   "outputs": [],
   "source": [
    "selected_columns = ['Label',\n",
    "                    'AP1_Distance (mm)','AP2_Distance (mm)','AP3_Distance (mm)','AP4_Distance (mm)']  \n",
    "\n",
    "what_data = \"onlydistancemcAP\""
   ]
  },
  {
   "cell_type": "code",
   "execution_count": 99,
   "metadata": {},
   "outputs": [
    {
     "name": "stdout",
     "output_type": "stream",
     "text": [
      "  Label  AP1_Rssi  AP2_Rssi  AP3_Rssi  AP4_Rssi\n",
      "0  1-11     -60.0     -68.0     -61.0     -59.0\n",
      "1  1-11     -62.0     -70.0     -59.0     -59.0\n",
      "2  1-11     -61.0     -69.0     -62.0     -55.0\n",
      "3  1-11     -62.0     -69.0     -63.0     -55.0\n",
      "4  1-11     -61.0     -70.0     -62.0     -55.0\n"
     ]
    }
   ],
   "source": [
    "# 1. 讀取資料\n",
    "file_path = \"timestamp_allignment_Balanced_2024_12_14_rtt_logs.csv\"\n",
    "\n",
    "date = \"2024_12_14\"\n",
    "\n",
    "data = pd.read_csv(file_path, usecols=selected_columns)\n",
    "\n",
    "print(data.head())"
   ]
  },
  {
   "cell_type": "code",
   "execution_count": 100,
   "metadata": {},
   "outputs": [],
   "source": [
    "label_to_coordinates = {\n",
    "    \"1-1\": (0, 0), \"1-2\": (0.6, 0), \"1-3\": (1.2, 0), \"1-4\": (1.8, 0), \"1-5\": (2.4, 0), \"1-6\": (3.0, 0),\"1-7\": (3.6, 0), \"1-8\": (4.2, 0), \"1-9\": (4.8, 0), \"1-10\": (5.4, 0), \"1-11\": (6.0, 0),\n",
    "    \"2-1\": (0, 0.6), \"2-11\": (6.0, 0.6),\n",
    "    \"3-1\": (0, 1.2), \"3-11\": (6.0, 1.2),\n",
    "    \"4-1\": (0, 1.8), \"4-11\": (6.0, 1.8),\n",
    "    \"5-1\": (0, 2.4), \"5-11\": (6.0, 2.4),\n",
    "    \"6-1\": (0, 3.0), \"6-2\": (0.6, 3.0), \"6-3\": (1.2, 3.0), \"6-4\": (1.8, 3.0), \"6-5\": (2.4, 3.0),\"6-6\": (3.0, 3.0), \"6-7\": (3.6, 3.0), \"6-8\": (4.2, 3.0), \"6-9\": (4.8, 3.0), \"6-10\": (5.4, 3.0), \"6-11\": (6.0, 3.0),\n",
    "    \"7-1\": (0, 3.6), \"7-11\": (6.0, 3.6),\n",
    "    \"8-1\": (0, 4.2), \"8-11\": (6.0, 4.2),\n",
    "    \"9-1\": (0, 4.8), \"9-11\": (6.0, 4.8),\n",
    "    \"10-1\": (0, 5.4), \"10-11\": (6.0, 5.4),\n",
    "    \"11-1\": (0, 6.0), \"11-2\": (0.6, 6.0), \"11-3\": (1.2, 6.0), \"11-4\": (1.8, 6.0), \"11-5\": (2.4, 6.0),\"11-6\": (3.0, 6.0), \"11-7\": (3.6, 6.0), \"11-8\": (4.2, 6.0), \"11-9\": (4.8, 6.0), \"11-10\": (5.4, 6.0), \"11-11\": (6.0, 6.0)\n",
    "}"
   ]
  },
  {
   "cell_type": "code",
   "execution_count": 101,
   "metadata": {},
   "outputs": [],
   "source": [
    "label_mapping = {\n",
    "    '11': '1-1','10': '1-2','9': '1-3','8': '1-4','7': '1-5','6': '1-6','5': '1-7','4': '1-8','3': '1-9','2': '1-10','1': '1-11',\n",
    "    '12': '2-1','30': '2-11',\n",
    "    '13': '3-1','29': '3-11',\n",
    "    '14': '4-1','28': '4-11',\n",
    "    '15': '5-1','27': '5-11',\n",
    "    '16': '6-1','17': '6-2','18': '6-3','19': '6-4','20': '6-5','21': '6-6','22': '6-7','23': '6-8','24': '6-9','25': '6-10','26': '6-11',\n",
    "    '49': '7-1','31': '7-11',\n",
    "    '48': '8-1','32': '8-11',\n",
    "    '47': '9-1','33': '9-11',\n",
    "    '46': '10-1','34': '10-11',\n",
    "    '45': '11-1','44': '11-2','43': '11-3','42': '11-4','41': '11-5','40': '11-6','39': '11-7','38': '11-8','37': '11-9','36': '11-10','35': '11-11'\n",
    "}"
   ]
  },
  {
   "cell_type": "code",
   "execution_count": 102,
   "metadata": {},
   "outputs": [],
   "source": [
    "# target_column = 'Label'  # 替換成目標欄位名稱\n",
    "# # 替換目標欄位的 label\n",
    "# data[target_column] = data[target_column].astype(str).map(label_mapping)\n",
    "# # 確認是否有未映射的值\n",
    "# unmapped_values = data[target_column][data[target_column].isna()].unique()\n",
    "# if len(unmapped_values) > 0:\n",
    "#     print(\"以下值未找到對應的映射：\", unmapped_values)"
   ]
  },
  {
   "cell_type": "code",
   "execution_count": 103,
   "metadata": {},
   "outputs": [],
   "source": [
    "test_size=0.2\n",
    "val_size=0.1\n",
    "\n",
    "target_column = 'Label'  # 替換成目標欄位名稱"
   ]
  },
  {
   "cell_type": "code",
   "execution_count": 104,
   "metadata": {},
   "outputs": [],
   "source": [
    "label_column = 'Label'"
   ]
  },
  {
   "cell_type": "code",
   "execution_count": 105,
   "metadata": {},
   "outputs": [
    {
     "data": {
      "text/html": [
       "<div>\n",
       "<style scoped>\n",
       "    .dataframe tbody tr th:only-of-type {\n",
       "        vertical-align: middle;\n",
       "    }\n",
       "\n",
       "    .dataframe tbody tr th {\n",
       "        vertical-align: top;\n",
       "    }\n",
       "\n",
       "    .dataframe thead th {\n",
       "        text-align: right;\n",
       "    }\n",
       "</style>\n",
       "<table border=\"1\" class=\"dataframe\">\n",
       "  <thead>\n",
       "    <tr style=\"text-align: right;\">\n",
       "      <th></th>\n",
       "      <th>Label</th>\n",
       "      <th>AP1_Rssi</th>\n",
       "      <th>AP2_Rssi</th>\n",
       "      <th>AP3_Rssi</th>\n",
       "      <th>AP4_Rssi</th>\n",
       "    </tr>\n",
       "  </thead>\n",
       "  <tbody>\n",
       "    <tr>\n",
       "      <th>0</th>\n",
       "      <td>1-1</td>\n",
       "      <td>-61.0</td>\n",
       "      <td>-73.0</td>\n",
       "      <td>-67.0</td>\n",
       "      <td>-55.0</td>\n",
       "    </tr>\n",
       "    <tr>\n",
       "      <th>1</th>\n",
       "      <td>1-1</td>\n",
       "      <td>-53.0</td>\n",
       "      <td>-73.0</td>\n",
       "      <td>-67.0</td>\n",
       "      <td>-55.0</td>\n",
       "    </tr>\n",
       "    <tr>\n",
       "      <th>2</th>\n",
       "      <td>1-1</td>\n",
       "      <td>-62.0</td>\n",
       "      <td>-73.0</td>\n",
       "      <td>-66.0</td>\n",
       "      <td>-49.0</td>\n",
       "    </tr>\n",
       "    <tr>\n",
       "      <th>3</th>\n",
       "      <td>1-1</td>\n",
       "      <td>-62.0</td>\n",
       "      <td>-72.0</td>\n",
       "      <td>-65.0</td>\n",
       "      <td>-54.0</td>\n",
       "    </tr>\n",
       "    <tr>\n",
       "      <th>4</th>\n",
       "      <td>1-1</td>\n",
       "      <td>-63.0</td>\n",
       "      <td>-72.0</td>\n",
       "      <td>-67.0</td>\n",
       "      <td>-54.0</td>\n",
       "    </tr>\n",
       "    <tr>\n",
       "      <th>...</th>\n",
       "      <td>...</td>\n",
       "      <td>...</td>\n",
       "      <td>...</td>\n",
       "      <td>...</td>\n",
       "      <td>...</td>\n",
       "    </tr>\n",
       "    <tr>\n",
       "      <th>17684</th>\n",
       "      <td>9-11</td>\n",
       "      <td>-58.0</td>\n",
       "      <td>-70.0</td>\n",
       "      <td>-52.0</td>\n",
       "      <td>-66.0</td>\n",
       "    </tr>\n",
       "    <tr>\n",
       "      <th>17685</th>\n",
       "      <td>9-11</td>\n",
       "      <td>-57.0</td>\n",
       "      <td>-69.0</td>\n",
       "      <td>-52.0</td>\n",
       "      <td>-66.0</td>\n",
       "    </tr>\n",
       "    <tr>\n",
       "      <th>17686</th>\n",
       "      <td>9-11</td>\n",
       "      <td>-57.0</td>\n",
       "      <td>-69.0</td>\n",
       "      <td>-52.0</td>\n",
       "      <td>-61.0</td>\n",
       "    </tr>\n",
       "    <tr>\n",
       "      <th>17687</th>\n",
       "      <td>9-11</td>\n",
       "      <td>-58.0</td>\n",
       "      <td>-70.0</td>\n",
       "      <td>-53.0</td>\n",
       "      <td>-66.0</td>\n",
       "    </tr>\n",
       "    <tr>\n",
       "      <th>17688</th>\n",
       "      <td>9-11</td>\n",
       "      <td>-57.0</td>\n",
       "      <td>-70.0</td>\n",
       "      <td>-54.0</td>\n",
       "      <td>-63.0</td>\n",
       "    </tr>\n",
       "  </tbody>\n",
       "</table>\n",
       "<p>17689 rows × 5 columns</p>\n",
       "</div>"
      ],
      "text/plain": [
       "      Label  AP1_Rssi  AP2_Rssi  AP3_Rssi  AP4_Rssi\n",
       "0       1-1     -61.0     -73.0     -67.0     -55.0\n",
       "1       1-1     -53.0     -73.0     -67.0     -55.0\n",
       "2       1-1     -62.0     -73.0     -66.0     -49.0\n",
       "3       1-1     -62.0     -72.0     -65.0     -54.0\n",
       "4       1-1     -63.0     -72.0     -67.0     -54.0\n",
       "...     ...       ...       ...       ...       ...\n",
       "17684  9-11     -58.0     -70.0     -52.0     -66.0\n",
       "17685  9-11     -57.0     -69.0     -52.0     -66.0\n",
       "17686  9-11     -57.0     -69.0     -52.0     -61.0\n",
       "17687  9-11     -58.0     -70.0     -53.0     -66.0\n",
       "17688  9-11     -57.0     -70.0     -54.0     -63.0\n",
       "\n",
       "[17689 rows x 5 columns]"
      ]
     },
     "execution_count": 105,
     "metadata": {},
     "output_type": "execute_result"
    }
   ],
   "source": [
    "# 資料前處理 (一): 刪除前後n筆資料\n",
    "n = 20\n",
    "# 確保依據Label排序\n",
    "data = data.sort_values(by=label_column).reset_index(drop=True)\n",
    "\n",
    "# 建立一個空的 DataFrame 用於存放處理後的資料\n",
    "processed_data = pd.DataFrame(columns=data.columns)\n",
    "\n",
    "# 針對每個Label群組進行處理\n",
    "for label, group in data.groupby(label_column):\n",
    "    # 刪除前n筆和後n筆資料\n",
    "    if len(group) > 2 * n:  # 確保群組資料足夠\n",
    "        group = group.iloc[n:-n]\n",
    "    else:\n",
    "        group = pd.DataFrame()  # 若資料不足，刪除整個群組\n",
    "    # 將處理後的群組資料加入\n",
    "    processed_data = pd.concat([processed_data, group], ignore_index=True)\n",
    "\n",
    "processed_data\n"
   ]
  },
  {
   "cell_type": "code",
   "execution_count": 106,
   "metadata": {},
   "outputs": [
    {
     "name": "stdout",
     "output_type": "stream",
     "text": [
      "Number of rows with NaN values: 951\n",
      "Rows with NaN values:\n",
      "      Label  AP1_Rssi  AP2_Rssi  AP3_Rssi  AP4_Rssi\n",
      "24      1-1     -63.0     -72.0       NaN       NaN\n",
      "46      1-1     -62.0     -72.0     -66.0       NaN\n",
      "49      1-1       NaN       NaN       NaN     -55.0\n",
      "60      1-1       NaN       NaN     -65.0     -53.0\n",
      "71      1-1     -61.0     -71.0       NaN       NaN\n",
      "...     ...       ...       ...       ...       ...\n",
      "17556  9-11       NaN     -69.0       NaN       NaN\n",
      "17575  9-11     -58.0     -70.0       NaN       NaN\n",
      "17597  9-11       NaN       NaN       NaN     -66.0\n",
      "17657  9-11       NaN       NaN       NaN     -66.0\n",
      "17683  9-11     -57.0       NaN     -52.0     -57.0\n",
      "\n",
      "[951 rows x 5 columns]\n"
     ]
    }
   ],
   "source": [
    "# Calculate the number of rows with NaN values\n",
    "nan_rows = processed_data.isnull().any(axis=1).sum()\n",
    "\n",
    "# Print the result\n",
    "print(f\"Number of rows with NaN values: {nan_rows}\")\n",
    "\n",
    "# 找出包含 NaN 的列\n",
    "rows_with_nan = processed_data[processed_data.isnull().any(axis=1)]\n",
    "\n",
    "# 印出這些列\n",
    "print(\"Rows with NaN values:\")\n",
    "print(rows_with_nan)"
   ]
  },
  {
   "cell_type": "code",
   "execution_count": 107,
   "metadata": {},
   "outputs": [
    {
     "data": {
      "text/html": [
       "<div>\n",
       "<style scoped>\n",
       "    .dataframe tbody tr th:only-of-type {\n",
       "        vertical-align: middle;\n",
       "    }\n",
       "\n",
       "    .dataframe tbody tr th {\n",
       "        vertical-align: top;\n",
       "    }\n",
       "\n",
       "    .dataframe thead th {\n",
       "        text-align: right;\n",
       "    }\n",
       "</style>\n",
       "<table border=\"1\" class=\"dataframe\">\n",
       "  <thead>\n",
       "    <tr style=\"text-align: right;\">\n",
       "      <th></th>\n",
       "      <th>Label</th>\n",
       "      <th>level_1</th>\n",
       "      <th>AP1_Rssi</th>\n",
       "      <th>AP2_Rssi</th>\n",
       "      <th>AP3_Rssi</th>\n",
       "      <th>AP4_Rssi</th>\n",
       "    </tr>\n",
       "  </thead>\n",
       "  <tbody>\n",
       "    <tr>\n",
       "      <th>0</th>\n",
       "      <td>1-1</td>\n",
       "      <td>0</td>\n",
       "      <td>-61.0</td>\n",
       "      <td>-73.0</td>\n",
       "      <td>-67.0</td>\n",
       "      <td>-55.0</td>\n",
       "    </tr>\n",
       "    <tr>\n",
       "      <th>1</th>\n",
       "      <td>1-1</td>\n",
       "      <td>1</td>\n",
       "      <td>-53.0</td>\n",
       "      <td>-73.0</td>\n",
       "      <td>-67.0</td>\n",
       "      <td>-55.0</td>\n",
       "    </tr>\n",
       "    <tr>\n",
       "      <th>2</th>\n",
       "      <td>1-1</td>\n",
       "      <td>2</td>\n",
       "      <td>-62.0</td>\n",
       "      <td>-73.0</td>\n",
       "      <td>-66.0</td>\n",
       "      <td>-49.0</td>\n",
       "    </tr>\n",
       "    <tr>\n",
       "      <th>3</th>\n",
       "      <td>1-1</td>\n",
       "      <td>3</td>\n",
       "      <td>-62.0</td>\n",
       "      <td>-72.0</td>\n",
       "      <td>-65.0</td>\n",
       "      <td>-54.0</td>\n",
       "    </tr>\n",
       "    <tr>\n",
       "      <th>4</th>\n",
       "      <td>1-1</td>\n",
       "      <td>4</td>\n",
       "      <td>-63.0</td>\n",
       "      <td>-72.0</td>\n",
       "      <td>-67.0</td>\n",
       "      <td>-54.0</td>\n",
       "    </tr>\n",
       "    <tr>\n",
       "      <th>...</th>\n",
       "      <td>...</td>\n",
       "      <td>...</td>\n",
       "      <td>...</td>\n",
       "      <td>...</td>\n",
       "      <td>...</td>\n",
       "      <td>...</td>\n",
       "    </tr>\n",
       "    <tr>\n",
       "      <th>17684</th>\n",
       "      <td>9-11</td>\n",
       "      <td>17684</td>\n",
       "      <td>-58.0</td>\n",
       "      <td>-70.0</td>\n",
       "      <td>-52.0</td>\n",
       "      <td>-66.0</td>\n",
       "    </tr>\n",
       "    <tr>\n",
       "      <th>17685</th>\n",
       "      <td>9-11</td>\n",
       "      <td>17685</td>\n",
       "      <td>-57.0</td>\n",
       "      <td>-69.0</td>\n",
       "      <td>-52.0</td>\n",
       "      <td>-66.0</td>\n",
       "    </tr>\n",
       "    <tr>\n",
       "      <th>17686</th>\n",
       "      <td>9-11</td>\n",
       "      <td>17686</td>\n",
       "      <td>-57.0</td>\n",
       "      <td>-69.0</td>\n",
       "      <td>-52.0</td>\n",
       "      <td>-61.0</td>\n",
       "    </tr>\n",
       "    <tr>\n",
       "      <th>17687</th>\n",
       "      <td>9-11</td>\n",
       "      <td>17687</td>\n",
       "      <td>-58.0</td>\n",
       "      <td>-70.0</td>\n",
       "      <td>-53.0</td>\n",
       "      <td>-66.0</td>\n",
       "    </tr>\n",
       "    <tr>\n",
       "      <th>17688</th>\n",
       "      <td>9-11</td>\n",
       "      <td>17688</td>\n",
       "      <td>-57.0</td>\n",
       "      <td>-70.0</td>\n",
       "      <td>-54.0</td>\n",
       "      <td>-63.0</td>\n",
       "    </tr>\n",
       "  </tbody>\n",
       "</table>\n",
       "<p>17689 rows × 6 columns</p>\n",
       "</div>"
      ],
      "text/plain": [
       "      Label  level_1  AP1_Rssi  AP2_Rssi  AP3_Rssi  AP4_Rssi\n",
       "0       1-1        0     -61.0     -73.0     -67.0     -55.0\n",
       "1       1-1        1     -53.0     -73.0     -67.0     -55.0\n",
       "2       1-1        2     -62.0     -73.0     -66.0     -49.0\n",
       "3       1-1        3     -62.0     -72.0     -65.0     -54.0\n",
       "4       1-1        4     -63.0     -72.0     -67.0     -54.0\n",
       "...     ...      ...       ...       ...       ...       ...\n",
       "17684  9-11    17684     -58.0     -70.0     -52.0     -66.0\n",
       "17685  9-11    17685     -57.0     -69.0     -52.0     -66.0\n",
       "17686  9-11    17686     -57.0     -69.0     -52.0     -61.0\n",
       "17687  9-11    17687     -58.0     -70.0     -53.0     -66.0\n",
       "17688  9-11    17688     -57.0     -70.0     -54.0     -63.0\n",
       "\n",
       "[17689 rows x 6 columns]"
      ]
     },
     "execution_count": 107,
     "metadata": {},
     "output_type": "execute_result"
    }
   ],
   "source": [
    "data_imputed = processed_data.groupby(label_column).apply(\n",
    "    lambda group: group.fillna(group.mean())\n",
    ").reset_index()\n",
    "data_imputed"
   ]
  },
  {
   "cell_type": "code",
   "execution_count": 108,
   "metadata": {},
   "outputs": [],
   "source": [
    "k = 5\n",
    "n_neighbors = 5\n",
    "\n"
   ]
  },
  {
   "cell_type": "code",
   "execution_count": 109,
   "metadata": {},
   "outputs": [
    {
     "name": "stdout",
     "output_type": "stream",
     "text": [
      "Final reverse_label_mapping in DNN: {'1-1': 10, '1-2': 9, '1-3': 8, '1-4': 7, '1-5': 6, '1-6': 5, '1-7': 4, '1-8': 3, '1-9': 2, '1-10': 1, '1-11': 0, '2-1': 11, '2-11': 29, '3-1': 12, '3-11': 28, '4-1': 13, '4-11': 27, '5-1': 14, '5-11': 26, '6-1': 15, '6-2': 16, '6-3': 17, '6-4': 18, '6-5': 19, '6-6': 20, '6-7': 21, '6-8': 22, '6-9': 23, '6-10': 24, '6-11': 25, '7-1': 48, '7-11': 30, '8-1': 47, '8-11': 31, '9-1': 46, '9-11': 32, '10-1': 45, '10-11': 33, '11-1': 44, '11-2': 43, '11-3': 42, '11-4': 41, '11-5': 40, '11-6': 39, '11-7': 38, '11-8': 37, '11-9': 36, '11-10': 35, '11-11': 34}\n",
      "y_numeric unique values in DNN: [10  1  0  9  8  7  6  5  4  3  2 45 33 44 35 34 43 42 41 40 39 38 37 36\n",
      " 11 29 12 28 13 27 14 26 15 24 25 16 17 18 19 20 21 22 23 48 30 47 31 46\n",
      " 32]\n"
     ]
    }
   ],
   "source": [
    "# 建立 Label 映射\n",
    "y = data_imputed[target_column]\n",
    "# label_mapping = {str(i): label for i, label in enumerate(y.unique())}\n",
    "reverse_label_mapping = {v: int(k) - 1 for k, v in label_mapping.items()}  # 讓數字標籤 -1\n",
    "y_numeric = y.map(reverse_label_mapping)\n",
    "\n",
    "print(\"Final reverse_label_mapping in DNN:\", reverse_label_mapping)\n",
    "print(\"y_numeric unique values in DNN:\", y_numeric.unique())"
   ]
  },
  {
   "cell_type": "code",
   "execution_count": 110,
   "metadata": {},
   "outputs": [
    {
     "name": "stdout",
     "output_type": "stream",
     "text": [
      "[-0.12078282 -1.05932105 -1.67449221  0.41521787]\n"
     ]
    },
    {
     "data": {
      "text/html": [
       "<div>\n",
       "<style scoped>\n",
       "    .dataframe tbody tr th:only-of-type {\n",
       "        vertical-align: middle;\n",
       "    }\n",
       "\n",
       "    .dataframe tbody tr th {\n",
       "        vertical-align: top;\n",
       "    }\n",
       "\n",
       "    .dataframe thead th {\n",
       "        text-align: right;\n",
       "    }\n",
       "</style>\n",
       "<table border=\"1\" class=\"dataframe\">\n",
       "  <thead>\n",
       "    <tr style=\"text-align: right;\">\n",
       "      <th></th>\n",
       "      <th>AP1_Rssi</th>\n",
       "      <th>AP2_Rssi</th>\n",
       "      <th>AP3_Rssi</th>\n",
       "      <th>AP4_Rssi</th>\n",
       "    </tr>\n",
       "  </thead>\n",
       "  <tbody>\n",
       "    <tr>\n",
       "      <th>0</th>\n",
       "      <td>-61.0</td>\n",
       "      <td>-73.0</td>\n",
       "      <td>-67.0</td>\n",
       "      <td>-55.0</td>\n",
       "    </tr>\n",
       "    <tr>\n",
       "      <th>1</th>\n",
       "      <td>-53.0</td>\n",
       "      <td>-73.0</td>\n",
       "      <td>-67.0</td>\n",
       "      <td>-55.0</td>\n",
       "    </tr>\n",
       "    <tr>\n",
       "      <th>2</th>\n",
       "      <td>-62.0</td>\n",
       "      <td>-73.0</td>\n",
       "      <td>-66.0</td>\n",
       "      <td>-49.0</td>\n",
       "    </tr>\n",
       "    <tr>\n",
       "      <th>3</th>\n",
       "      <td>-62.0</td>\n",
       "      <td>-72.0</td>\n",
       "      <td>-65.0</td>\n",
       "      <td>-54.0</td>\n",
       "    </tr>\n",
       "    <tr>\n",
       "      <th>4</th>\n",
       "      <td>-63.0</td>\n",
       "      <td>-72.0</td>\n",
       "      <td>-67.0</td>\n",
       "      <td>-54.0</td>\n",
       "    </tr>\n",
       "    <tr>\n",
       "      <th>...</th>\n",
       "      <td>...</td>\n",
       "      <td>...</td>\n",
       "      <td>...</td>\n",
       "      <td>...</td>\n",
       "    </tr>\n",
       "    <tr>\n",
       "      <th>17684</th>\n",
       "      <td>-58.0</td>\n",
       "      <td>-70.0</td>\n",
       "      <td>-52.0</td>\n",
       "      <td>-66.0</td>\n",
       "    </tr>\n",
       "    <tr>\n",
       "      <th>17685</th>\n",
       "      <td>-57.0</td>\n",
       "      <td>-69.0</td>\n",
       "      <td>-52.0</td>\n",
       "      <td>-66.0</td>\n",
       "    </tr>\n",
       "    <tr>\n",
       "      <th>17686</th>\n",
       "      <td>-57.0</td>\n",
       "      <td>-69.0</td>\n",
       "      <td>-52.0</td>\n",
       "      <td>-61.0</td>\n",
       "    </tr>\n",
       "    <tr>\n",
       "      <th>17687</th>\n",
       "      <td>-58.0</td>\n",
       "      <td>-70.0</td>\n",
       "      <td>-53.0</td>\n",
       "      <td>-66.0</td>\n",
       "    </tr>\n",
       "    <tr>\n",
       "      <th>17688</th>\n",
       "      <td>-57.0</td>\n",
       "      <td>-70.0</td>\n",
       "      <td>-54.0</td>\n",
       "      <td>-63.0</td>\n",
       "    </tr>\n",
       "  </tbody>\n",
       "</table>\n",
       "<p>17689 rows × 4 columns</p>\n",
       "</div>"
      ],
      "text/plain": [
       "       AP1_Rssi  AP2_Rssi  AP3_Rssi  AP4_Rssi\n",
       "0         -61.0     -73.0     -67.0     -55.0\n",
       "1         -53.0     -73.0     -67.0     -55.0\n",
       "2         -62.0     -73.0     -66.0     -49.0\n",
       "3         -62.0     -72.0     -65.0     -54.0\n",
       "4         -63.0     -72.0     -67.0     -54.0\n",
       "...         ...       ...       ...       ...\n",
       "17684     -58.0     -70.0     -52.0     -66.0\n",
       "17685     -57.0     -69.0     -52.0     -66.0\n",
       "17686     -57.0     -69.0     -52.0     -61.0\n",
       "17687     -58.0     -70.0     -53.0     -66.0\n",
       "17688     -57.0     -70.0     -54.0     -63.0\n",
       "\n",
       "[17689 rows x 4 columns]"
      ]
     },
     "execution_count": 110,
     "metadata": {},
     "output_type": "execute_result"
    }
   ],
   "source": [
    "# 把label部分拿掉\n",
    "X = data_imputed.drop(columns=['level_1','Label'])\n",
    "\n",
    "scaler = StandardScaler()\n",
    "columns_to_scale = selected_columns.copy()  # 建立副本，避免影響原始變數\n",
    "columns_to_scale.remove('Label')  # 在副本上移除 'Label'\n",
    "X_scaled = scaler.fit_transform(X[columns_to_scale])\n",
    "\n",
    "# 保存標準化器\n",
    "joblib.dump(scaler, f'scaler_{what_data}.pkl')\n",
    "\n",
    "print(X_scaled[0])\n",
    "\n",
    "X"
   ]
  },
  {
   "cell_type": "code",
   "execution_count": 111,
   "metadata": {},
   "outputs": [],
   "source": [
    "# 設定 KFold 交叉驗證\n",
    "kf = KFold(n_splits=5, shuffle=True, random_state=42)\n",
    "all_y_test, all_y_test_pred = [], []\n",
    "overall_accuracy, overall_mde = [], []\n",
    "mde_report, fold_reports = {}, []\n",
    "fold_index = 1\n",
    "\n",
    "mde_report_per_fold = {}\n",
    "\n",
    "# 初始化最佳 MDE 變數\n",
    "best_mde = float('inf')  # 設為無限大，確保第一個 fold 一定會更新\n",
    "best_model = None  # 儲存最佳模型"
   ]
  },
  {
   "cell_type": "code",
   "execution_count": 112,
   "metadata": {},
   "outputs": [
    {
     "name": "stdout",
     "output_type": "stream",
     "text": [
      "X type\n",
      "AP1_Rssi    float64\n",
      "AP2_Rssi    float64\n",
      "AP3_Rssi    float64\n",
      "AP4_Rssi    float64\n",
      "dtype: object\n",
      "y type\n",
      "object\n"
     ]
    }
   ],
   "source": [
    "print(\"X type\")\n",
    "print(X.dtypes)\n",
    "print(\"y type\")\n",
    "print(y.dtypes)"
   ]
  },
  {
   "cell_type": "code",
   "execution_count": 113,
   "metadata": {},
   "outputs": [],
   "source": [
    "# # 使用所有資料進行訓練\n",
    "# X_train, y_train = X_scaled, y_numeric\n",
    "\n",
    "# # 建立 DNN 模型\n",
    "# model = keras.Sequential([\n",
    "#     keras.layers.Dense(64, activation='relu', input_shape=(X_train.shape[1],)),\n",
    "#     keras.layers.Dense(128, activation='relu'),\n",
    "#     keras.layers.Dense(256, activation='relu'),\n",
    "#     keras.layers.Dense(32, activation='relu'),\n",
    "#     keras.layers.Dense(len(label_mapping), activation='softmax')\n",
    "# ])\n",
    "\n",
    "# # 編譯模型\n",
    "# model.compile(optimizer='adam', loss='sparse_categorical_crossentropy', metrics=['accuracy'])\n",
    "\n",
    "# # 設定 EarlyStopping 回呼函數\n",
    "# early_stop = EarlyStopping(monitor='loss', patience=10, restore_best_weights=True)\n",
    "\n",
    "# # 訓練模型\n",
    "# model.fit(X_train, y_train, epochs=50, batch_size=32, verbose=1,shuffle=False)\n",
    "\n",
    "# # 預測（使用訓練資料進行預測來計算 MDE）\n",
    "# y_train_pred_numeric = model.predict(X_train)\n",
    "# y_pred_classes = np.argmax(y_train_pred_numeric, axis=1)\n",
    "# y_train_pred_labels = [label_mapping[str(num + 1)] for num in y_pred_classes]\n",
    "\n",
    "# # 計算 MDE\n",
    "# y_train_pred_coordinates = np.array([label_to_coordinates[label] for label in y_train_pred_labels])\n",
    "# y_train_coordinates = np.array([label_to_coordinates[label_mapping[str(label + 1)]] for label in y_train])\n",
    "\n",
    "# distances = np.linalg.norm(y_train_pred_coordinates - y_train_coordinates, axis=1)\n",
    "# overall_mde = np.mean(distances)\n",
    "\n",
    "# # 記錄每個 RP 的 MDE\n",
    "# mde_report = {}\n",
    "# for true_label, distance in zip(y_train, distances):\n",
    "#     if true_label not in mde_report:\n",
    "#         mde_report[true_label] = []\n",
    "#     mde_report[true_label].append(distance)\n",
    "\n",
    "# # 計算平均 MDE\n",
    "# mde_report_avg = {label: {\"mde\": np.mean(dist_list), \"count\": len(dist_list)} for label, dist_list in mde_report.items()}\n",
    "\n",
    "# # 儲存到 JSON 檔案\n",
    "# file_path = f\"mde_report_avg_{date}.json\"\n",
    "# with open(file_path, \"w\") as f:\n",
    "#     json.dump(mde_report_avg, f, indent=4)\n",
    "\n",
    "# print(f\"Average MDE report saved to: {file_path}\")\n",
    "\n",
    "# # 儲存模型\n",
    "# model.save(f\"DNN_model_{what_data}.h5\")\n",
    "# best_model = model\n",
    "# print(f\"Model saved with MDE: {overall_mde:.4f}\")\n"
   ]
  },
  {
   "cell_type": "markdown",
   "metadata": {},
   "source": [
    "### 5 fold"
   ]
  },
  {
   "cell_type": "code",
   "execution_count": 114,
   "metadata": {},
   "outputs": [
    {
     "name": "stdout",
     "output_type": "stream",
     "text": [
      "111/111 [==============================] - 0s 256us/step\n",
      "Fold 1 - MDE: 0.2438\n",
      "-> New best model found at Fold 1 with MDE: 0.2438\n",
      "111/111 [==============================] - 0s 518us/step\n",
      "Fold 2 - MDE: 0.2312\n",
      "-> New best model found at Fold 2 with MDE: 0.2312\n",
      "111/111 [==============================] - 0s 717us/step\n",
      "Fold 3 - MDE: 0.2309\n",
      "-> New best model found at Fold 3 with MDE: 0.2309\n",
      "111/111 [==============================] - 0s 547us/step\n",
      "Fold 4 - MDE: 0.2127\n",
      "-> New best model found at Fold 4 with MDE: 0.2127\n",
      "111/111 [==============================] - 0s 767us/step\n",
      "Fold 5 - MDE: 0.2404\n",
      "5-Fold Average MDE report saved to: mde_report_avg_2024_12_14.json\n",
      "Best DNN model saved with MDE: 0.2127\n"
     ]
    }
   ],
   "source": [
    "# 進行 5-Fold 交叉驗證\n",
    "for train_index, test_index in kf.split(X_scaled):\n",
    "    X_train, X_test = X_scaled[train_index], X_scaled[test_index]\n",
    "    y_train, y_test = y_numeric.iloc[train_index], y_numeric.iloc[test_index]\n",
    "\n",
    "    # 建立 DNN 模型\n",
    "    model = keras.Sequential([\n",
    "        keras.layers.Dense(64, activation='relu', input_shape=(X_train.shape[1],)),\n",
    "        keras.layers.Dense(128, activation='relu'),\n",
    "        keras.layers.Dense(64, activation='relu'),\n",
    "        keras.layers.Dense(len(label_mapping), activation='softmax')\n",
    "    ])\n",
    "\n",
    "    # 編譯模型\n",
    "    model.compile(optimizer='adam', loss='sparse_categorical_crossentropy', metrics=['accuracy'])\n",
    "\n",
    "    # 訓練模型\n",
    "    model.fit(X_train, y_train, epochs=50, batch_size=32, verbose=0)\n",
    "\n",
    "    \n",
    "\n",
    "    # 進行預測\n",
    "    y_test_pred_numeric = model.predict(X_test)\n",
    "    y_pred_classes = np.argmax(y_test_pred_numeric, axis=1)\n",
    "    y_test_pred_labels = [label_mapping[str(num + 1)] for num in y_pred_classes]  # 補回 +1\n",
    "\n",
    "\n",
    "    # 計算 MDE\n",
    "    y_test_pred_coordinates = np.array([label_to_coordinates[label] for label in y_test_pred_labels])\n",
    "    y_test_coordinates = np.array([label_to_coordinates[label_mapping[str(label + 1)]] for label in y_test])\n",
    "\n",
    "\n",
    "    distances = np.linalg.norm(y_test_pred_coordinates - y_test_coordinates, axis=1)\n",
    "    fold_mde = np.mean(distances)\n",
    "    overall_mde.append(fold_mde)\n",
    "\n",
    "    # 記錄每個 RP 在當前 fold 的 MDE\n",
    "    for true_label, distance in zip(y_test, distances):\n",
    "        if true_label not in mde_report_per_fold:\n",
    "            mde_report_per_fold[true_label] = []\n",
    "        mde_report_per_fold[true_label].append(distance)  # 存所有 fold 的 MDE\n",
    "\n",
    "\n",
    "    print(f\"Fold {fold_index} - MDE: {fold_mde:.4f}\")\n",
    "\n",
    "    # 檢查是否為最佳模型\n",
    "    if fold_mde < best_mde:\n",
    "        best_mde = fold_mde\n",
    "        best_model = model  # 更新最佳模型\n",
    "        print(f\"-> New best model found at Fold {fold_index} with MDE: {best_mde:.4f}\")\n",
    "    \n",
    "\n",
    "    fold_index += 1\n",
    "    \n",
    "\n",
    "# 計算 5-Fold 平均 MDE\n",
    "mde_report_avg = {label: {\"mde\": np.mean(distances), \"count\": len(distances)} for label, distances in mde_report_per_fold.items()}\n",
    "\n",
    "# 儲存到 JSON 檔案\n",
    "file_path = f\"mde_report_avg_{date}.json\"\n",
    "with open(file_path, \"w\") as f:\n",
    "    json.dump(mde_report_avg, f, indent=4)\n",
    "\n",
    "print(f\"5-Fold Average MDE report saved to: {file_path}\")\n",
    "\n",
    "# 儲存最佳模型\n",
    "if best_model:\n",
    "    best_model.save(f\"DNN_best_model{what_data}.h5\")\n",
    "    print(f\"Best DNN model saved with MDE: {best_mde:.4f}\")\n",
    "else:\n",
    "    print(\"No best model found!\")"
   ]
  },
  {
   "cell_type": "code",
   "execution_count": 115,
   "metadata": {},
   "outputs": [
    {
     "name": "stdout",
     "output_type": "stream",
     "text": [
      "\n",
      "5-Fold Mean MDE: 0.2318 meters\n"
     ]
    }
   ],
   "source": [
    "# 計算 5-Fold 平均 MDE\n",
    "mean_mde = np.mean(overall_mde)\n",
    "print(f\"\\n5-Fold Mean MDE: {mean_mde:.4f} meters\")"
   ]
  },
  {
   "cell_type": "markdown",
   "metadata": {},
   "source": [
    "# 測試模型"
   ]
  },
  {
   "cell_type": "code",
   "execution_count": null,
   "metadata": {},
   "outputs": [],
   "source": [
    "X_testing_selected_columns = ['AP1_Distance (mm)','AP2_Distance (mm)','AP3_Distance (mm)','AP4_Distance (mm)'\n",
    "                                ]  \n",
    "# 'AP1_Rssi','AP2_Rssi','AP3_Rssi','AP4_Rssi'\n",
    "# 'AP1_Distance (mm)','AP2_Distance (mm)','AP3_Distance (mm)','AP4_Distance (mm)',\n",
    "# 'AP1_StdDev (mm)','AP2_StdDev (mm)','AP3_StdDev (mm)','AP4_StdDev (mm)',"
   ]
  },
  {
   "cell_type": "code",
   "execution_count": null,
   "metadata": {},
   "outputs": [],
   "source": [
    "# 讀取測試資料\n",
    "test_file_path = \"timestamp_allignment_Balanced_2025_01_10_rtt_logs.csv\"  # 測試資料的檔案名稱\n",
    "date_test = \"2025_01_10\"\n",
    "modelname = \"DNN only distance mcAPs\"\n",
    "test_data = pd.read_csv(test_file_path, usecols=selected_columns)\n",
    "# test_data"
   ]
  },
  {
   "cell_type": "code",
   "execution_count": 118,
   "metadata": {},
   "outputs": [],
   "source": [
    "# 資料前處理 (一): 刪除前後n筆資料\n",
    "n = 20\n",
    "# 確保依據Label排序\n",
    "test_data = test_data.sort_values(by=label_column).reset_index(drop=True)\n",
    "\n",
    "# 建立一個空的 DataFrame 用於存放處理後的資料\n",
    "test_processed_data = pd.DataFrame(columns=test_data.columns)\n",
    "\n",
    "# 針對每個Label群組進行處理\n",
    "for label, group in test_data.groupby(label_column):\n",
    "    # 刪除前n筆和後n筆資料\n",
    "    if len(group) > 2 * n:  # 確保群組資料足夠\n",
    "        group = group.iloc[n:-n]\n",
    "    else:\n",
    "        group = pd.DataFrame()  # 若資料不足，刪除整個群組\n",
    "    # 將處理後的群組資料加入\n",
    "    test_processed_data = pd.concat([test_processed_data, group], ignore_index=True)\n",
    "\n",
    "# test_processed_data"
   ]
  },
  {
   "cell_type": "code",
   "execution_count": 119,
   "metadata": {},
   "outputs": [
    {
     "name": "stdout",
     "output_type": "stream",
     "text": [
      "Number of rows with NaN values: 925\n"
     ]
    }
   ],
   "source": [
    "# Calculate the number of rows with NaN values\n",
    "nan_rows = test_processed_data.isnull().any(axis=1).sum()\n",
    "\n",
    "# Print the result\n",
    "print(f\"Number of rows with NaN values: {nan_rows}\")\n",
    "\n",
    "# 找出包含 NaN 的列\n",
    "rows_with_nan = test_processed_data[test_processed_data.isnull().any(axis=1)]\n",
    "\n",
    "# # 印出這些列\n",
    "# print(\"Rows with NaN values:\")\n",
    "# print(rows_with_nan)"
   ]
  },
  {
   "cell_type": "code",
   "execution_count": 120,
   "metadata": {},
   "outputs": [
    {
     "name": "stdout",
     "output_type": "stream",
     "text": [
      "Number of rows with NaN values: 0\n"
     ]
    }
   ],
   "source": [
    "test_data_imputed = test_processed_data.groupby(label_column).apply(\n",
    "    lambda group: group.fillna(group.mean())\n",
    ").reset_index()\n",
    "\n",
    "# Calculate the number of rows with NaN values\n",
    "nan_rows = test_data_imputed.isnull().any(axis=1).sum()\n",
    "\n",
    "# Print the result\n",
    "print(f\"Number of rows with NaN values: {nan_rows}\")\n",
    "\n",
    "# 找出包含 NaN 的列\n",
    "rows_with_nan = test_data_imputed[test_data_imputed.isnull().any(axis=1)]\n",
    "\n",
    "# test_data_imputed"
   ]
  },
  {
   "cell_type": "code",
   "execution_count": 121,
   "metadata": {},
   "outputs": [
    {
     "name": "stdout",
     "output_type": "stream",
     "text": [
      "Final reverse_label_mapping in DNN: {'1-1': 10, '1-2': 9, '1-3': 8, '1-4': 7, '1-5': 6, '1-6': 5, '1-7': 4, '1-8': 3, '1-9': 2, '1-10': 1, '1-11': 0, '2-1': 11, '2-11': 29, '3-1': 12, '3-11': 28, '4-1': 13, '4-11': 27, '5-1': 14, '5-11': 26, '6-1': 15, '6-2': 16, '6-3': 17, '6-4': 18, '6-5': 19, '6-6': 20, '6-7': 21, '6-8': 22, '6-9': 23, '6-10': 24, '6-11': 25, '7-1': 48, '7-11': 30, '8-1': 47, '8-11': 31, '9-1': 46, '9-11': 32, '10-1': 45, '10-11': 33, '11-1': 44, '11-2': 43, '11-3': 42, '11-4': 41, '11-5': 40, '11-6': 39, '11-7': 38, '11-8': 37, '11-9': 36, '11-10': 35, '11-11': 34}\n",
      "y_numeric unique values in DNN: [10  1  0  9  8  7  6  5  4  3  2 45 33 44 35 34 43 42 41 40 39 38 37 36\n",
      " 11 29 12 28 13 27 14 26 15 24 25 16 17 18 19 20 21 22 23 48 30 47 31 46\n",
      " 32]\n"
     ]
    }
   ],
   "source": [
    "# 建立 Label 映射\n",
    "y_test = test_data_imputed[target_column]\n",
    "y_test_numeric = y_test.map(reverse_label_mapping)\n",
    "\n",
    "print(\"Final reverse_label_mapping in DNN:\", reverse_label_mapping)\n",
    "print(\"y_numeric unique values in DNN:\", y_test_numeric.unique())\n",
    "\n",
    "# 把label部分拿掉\n",
    "X_test = test_data_imputed.drop(columns=['level_1','Label'])\n",
    "# 確保測試資料的特徵與訓練資料的特徵一致\n",
    "X_test = X_test[X_testing_selected_columns]  # 選取相同的特徵\n",
    "\n",
    "\n",
    "# y_test_numeric"
   ]
  },
  {
   "cell_type": "code",
   "execution_count": 122,
   "metadata": {},
   "outputs": [
    {
     "name": "stdout",
     "output_type": "stream",
     "text": [
      "18718\n"
     ]
    }
   ],
   "source": [
    "# 使用之前訓練時的標準化器 (scaler) 來標準化測試數據\n",
    "X_test_scaled = scaler.transform(X_test)\n",
    "\n",
    "print(len(X_test_scaled))"
   ]
  },
  {
   "cell_type": "markdown",
   "metadata": {},
   "source": [
    "### 預測\n"
   ]
  },
  {
   "cell_type": "code",
   "execution_count": 123,
   "metadata": {},
   "outputs": [
    {
     "name": "stdout",
     "output_type": "stream",
     "text": [
      "585/585 [==============================] - 0s 445us/step - loss: 15.5445 - accuracy: 0.0855\n"
     ]
    },
    {
     "data": {
      "text/plain": [
       "[15.54450798034668, 0.08553264290094376]"
      ]
     },
     "execution_count": 123,
     "metadata": {},
     "output_type": "execute_result"
    }
   ],
   "source": [
    "best_model.evaluate(X_test_scaled, y_test_numeric)  # 確保模型在測試模式"
   ]
  },
  {
   "cell_type": "code",
   "execution_count": 124,
   "metadata": {},
   "outputs": [
    {
     "name": "stdout",
     "output_type": "stream",
     "text": [
      "585/585 [==============================] - 0s 258us/step\n"
     ]
    }
   ],
   "source": [
    "# 預測測試資料\n",
    "y_test_pred_numeric = best_model.predict(X_test_scaled)\n",
    "y_pred_classes = np.argmax(y_test_pred_numeric, axis=1)"
   ]
  },
  {
   "cell_type": "code",
   "execution_count": 125,
   "metadata": {},
   "outputs": [],
   "source": [
    "# 轉換為原本的 Label\n",
    "y_test_pred_labels = [label_mapping[str(num + 1)] for num in y_pred_classes]  # 補回 +1\n",
    "# y_test_pred_labels"
   ]
  },
  {
   "cell_type": "code",
   "execution_count": 126,
   "metadata": {},
   "outputs": [],
   "source": [
    "# 讀取測試資料的實際 Label\n",
    "y_test_actual = test_data_imputed[target_column]\n",
    "# test_data_imputed"
   ]
  },
  {
   "cell_type": "code",
   "execution_count": 127,
   "metadata": {},
   "outputs": [],
   "source": [
    "# 取得預測與實際座標\n",
    "y_test_pred_coordinates = np.array([label_to_coordinates[label] for label in y_test_pred_labels])\n",
    "y_test_actual_coordinates = np.array([label_to_coordinates[label] for label in y_test_actual])"
   ]
  },
  {
   "cell_type": "code",
   "execution_count": 128,
   "metadata": {},
   "outputs": [
    {
     "name": "stdout",
     "output_type": "stream",
     "text": [
      "Test Data MDE report saved to: DNN 0 mcAPs_2025_01_10.json\n",
      "\n",
      "Test Data Mean MDE: 2.2749 meters\n"
     ]
    }
   ],
   "source": [
    "# 計算 MDE (Mean Distance Error)\n",
    "distances = np.linalg.norm(y_test_pred_coordinates - y_test_actual_coordinates, axis=1)\n",
    "mean_mde = np.mean(distances)\n",
    "\n",
    "# 記錄每個 RP 的 MDE\n",
    "mde_report_test = {}\n",
    "for true_label, distance in zip(y_test_actual, distances):\n",
    "    if true_label not in mde_report_test:\n",
    "        mde_report_test[true_label] = []\n",
    "    mde_report_test[true_label].append(distance)\n",
    "\n",
    "# 計算測試資料的 MDE 平均值\n",
    "mde_report_test_avg = {label: {\"mde\": np.mean(dists), \"count\": len(dists)} for label, dists in mde_report_test.items()}\n",
    "\n",
    "# 儲存 MDE 結果到 JSON 檔案\n",
    "test_file_path = f\"{modelname}_{date_test}.json\"\n",
    "with open(test_file_path, \"w\") as f:\n",
    "    json.dump(mde_report_test_avg, f, indent=4)\n",
    "\n",
    "print(f\"Test Data MDE report saved to: {test_file_path}\")\n",
    "print(f\"\\nTest Data Mean MDE: {mean_mde:.4f} meters\")\n"
   ]
  }
 ],
 "metadata": {
  "kernelspec": {
   "display_name": "Python 3",
   "language": "python",
   "name": "python3"
  },
  "language_info": {
   "codemirror_mode": {
    "name": "ipython",
    "version": 3
   },
   "file_extension": ".py",
   "mimetype": "text/x-python",
   "name": "python",
   "nbconvert_exporter": "python",
   "pygments_lexer": "ipython3",
   "version": "3.8.10"
  }
 },
 "nbformat": 4,
 "nbformat_minor": 2
}
