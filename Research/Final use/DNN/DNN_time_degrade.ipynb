{
 "cells": [
  {
   "cell_type": "code",
   "execution_count": 11,
   "metadata": {},
   "outputs": [],
   "source": [
    "import os\n",
    "os.environ['TF_CPP_MIN_LOG_LEVEL'] = '3'\n",
    "import tensorflow as tf\n",
    "tf.get_logger().setLevel('ERROR')\n",
    "\n",
    "import absl.logging\n",
    "absl.logging.set_verbosity(absl.logging.ERROR)\n"
   ]
  },
  {
   "cell_type": "code",
   "execution_count": 12,
   "metadata": {},
   "outputs": [],
   "source": [
    "import pandas as pd\n",
    "import numpy as np\n",
    "import joblib\n",
    "from tensorflow.keras.models import load_model\n",
    "from sklearn.metrics import accuracy_score"
   ]
  },
  {
   "cell_type": "code",
   "execution_count": 13,
   "metadata": {},
   "outputs": [],
   "source": [
    "label_to_coordinates = {\n",
    "    \"1-1\": (0, 0), \"1-2\": (0.6, 0), \"1-3\": (1.2, 0), \"1-4\": (1.8, 0), \"1-5\": (2.4, 0), \"1-6\": (3.0, 0),\"1-7\": (3.6, 0), \"1-8\": (4.2, 0), \"1-9\": (4.8, 0), \"1-10\": (5.4, 0), \"1-11\": (6.0, 0),\n",
    "    \"2-1\": (0, 0.6), \"2-11\": (6.0, 0.6),\n",
    "    \"3-1\": (0, 1.2), \"3-11\": (6.0, 1.2),\n",
    "    \"4-1\": (0, 1.8), \"4-11\": (6.0, 1.8),\n",
    "    \"5-1\": (0, 2.4), \"5-11\": (6.0, 2.4),\n",
    "    \"6-1\": (0, 3.0), \"6-2\": (0.6, 3.0), \"6-3\": (1.2, 3.0), \"6-4\": (1.8, 3.0), \"6-5\": (2.4, 3.0),\"6-6\": (3.0, 3.0), \"6-7\": (3.6, 3.0), \"6-8\": (4.2, 3.0), \"6-9\": (4.8, 3.0), \"6-10\": (5.4, 3.0), \"6-11\": (6.0, 3.0),\n",
    "    \"7-1\": (0, 3.6), \"7-11\": (6.0, 3.6),\n",
    "    \"8-1\": (0, 4.2), \"8-11\": (6.0, 4.2),\n",
    "    \"9-1\": (0, 4.8), \"9-11\": (6.0, 4.8),\n",
    "    \"10-1\": (0, 5.4), \"10-11\": (6.0, 5.4),\n",
    "    \"11-1\": (0, 6.0), \"11-2\": (0.6, 6.0), \"11-3\": (1.2, 6.0), \"11-4\": (1.8, 6.0), \"11-5\": (2.4, 6.0),\"11-6\": (3.0, 6.0), \"11-7\": (3.6, 6.0), \"11-8\": (4.2, 6.0), \"11-9\": (4.8, 6.0), \"11-10\": (5.4, 6.0), \"11-11\": (6.0, 6.0)\n",
    "}\n",
    "label_mapping = {\n",
    "    '11': '1-1','10': '1-2','9': '1-3','8': '1-4','7': '1-5','6': '1-6','5': '1-7','4': '1-8','3': '1-9','2': '1-10','1': '1-11',\n",
    "    '12': '2-1','30': '2-11',\n",
    "    '13': '3-1','29': '3-11',\n",
    "    '14': '4-1','28': '4-11',\n",
    "    '15': '5-1','27': '5-11',\n",
    "    '16': '6-1','17': '6-2','18': '6-3','19': '6-4','20': '6-5','21': '6-6','22': '6-7','23': '6-8','24': '6-9','25': '6-10','26': '6-11',\n",
    "    '49': '7-1','31': '7-11',\n",
    "    '48': '8-1','32': '8-11',\n",
    "    '47': '9-1','33': '9-11',\n",
    "    '46': '10-1','34': '10-11',\n",
    "    '45': '11-1','44': '11-2','43': '11-3','42': '11-4','41': '11-5','40': '11-6','39': '11-7','38': '11-8','37': '11-9','36': '11-10','35': '11-11'\n",
    "}"
   ]
  },
  {
   "cell_type": "code",
   "execution_count": 14,
   "metadata": {},
   "outputs": [],
   "source": [
    "reverse_label_mapping = {v:int(k)-1 for k,v in label_mapping.items()}"
   ]
  },
  {
   "cell_type": "code",
   "execution_count": 15,
   "metadata": {},
   "outputs": [
    {
     "name": "stderr",
     "output_type": "stream",
     "text": [
      "c:\\Users\\吳定洋\\AppData\\Local\\Programs\\Python\\Python312\\Lib\\site-packages\\sklearn\\base.py:493: UserWarning: X does not have valid feature names, but StandardScaler was fitted with feature names\n",
      "  warnings.warn(\n"
     ]
    },
    {
     "name": "stdout",
     "output_type": "stream",
     "text": [
      "=== Date: 2024_12_21 ===\n",
      "平均 MDE: 0.9647\n",
      "平均 Accuracy: 0.4137\n"
     ]
    },
    {
     "name": "stderr",
     "output_type": "stream",
     "text": [
      "c:\\Users\\吳定洋\\AppData\\Local\\Programs\\Python\\Python312\\Lib\\site-packages\\sklearn\\base.py:493: UserWarning: X does not have valid feature names, but StandardScaler was fitted with feature names\n",
      "  warnings.warn(\n"
     ]
    },
    {
     "name": "stdout",
     "output_type": "stream",
     "text": [
      "=== Date: 2024_12_27 ===\n",
      "平均 MDE: 1.1851\n",
      "平均 Accuracy: 0.2783\n"
     ]
    },
    {
     "name": "stderr",
     "output_type": "stream",
     "text": [
      "c:\\Users\\吳定洋\\AppData\\Local\\Programs\\Python\\Python312\\Lib\\site-packages\\sklearn\\base.py:493: UserWarning: X does not have valid feature names, but StandardScaler was fitted with feature names\n",
      "  warnings.warn(\n"
     ]
    },
    {
     "name": "stdout",
     "output_type": "stream",
     "text": [
      "=== Date: 2025_01_03 ===\n",
      "平均 MDE: 1.0758\n",
      "平均 Accuracy: 0.306\n"
     ]
    },
    {
     "name": "stderr",
     "output_type": "stream",
     "text": [
      "c:\\Users\\吳定洋\\AppData\\Local\\Programs\\Python\\Python312\\Lib\\site-packages\\sklearn\\base.py:493: UserWarning: X does not have valid feature names, but StandardScaler was fitted with feature names\n",
      "  warnings.warn(\n"
     ]
    },
    {
     "name": "stdout",
     "output_type": "stream",
     "text": [
      "=== Date: 2025_01_10 ===\n",
      "平均 MDE: 1.2215\n",
      "平均 Accuracy: 0.2192\n"
     ]
    },
    {
     "name": "stderr",
     "output_type": "stream",
     "text": [
      "c:\\Users\\吳定洋\\AppData\\Local\\Programs\\Python\\Python312\\Lib\\site-packages\\sklearn\\base.py:493: UserWarning: X does not have valid feature names, but StandardScaler was fitted with feature names\n",
      "  warnings.warn(\n"
     ]
    },
    {
     "name": "stdout",
     "output_type": "stream",
     "text": [
      "=== Date: 2025_02_28 ===\n",
      "平均 MDE: 1.3345\n",
      "平均 Accuracy: 0.181\n",
      "MDE:  [0.0131, 0.9647, 1.1851, 1.0758, 1.2215, 1.3345]\n"
     ]
    }
   ],
   "source": [
    "all_date = [\"2024_12_21\",\"2024_12_27\",\"2025_01_03\",\"2025_01_10\",\"2025_02_28\"]\n",
    "\n",
    "date_MDE = [0.0131, ]\n",
    "# date_Accuracy = [0.9033, ]\n",
    "\n",
    "for date in all_date:\n",
    "    # 2. 讀取測試資料，只取同樣的 RSSI 欄位\n",
    "    file_test = f'timestamp_allignment_Balanced_{date}_rtt_logs.csv'\n",
    "\n",
    "    selected_columns = ['Label', \n",
    "                        'AP1_Distance (mm)','AP2_Distance (mm)','AP3_Distance (mm)',\n",
    "                        'AP1_StdDev (mm)','AP2_StdDev (mm)','AP3_StdDev (mm)',\n",
    "                        'AP1_Rssi','AP2_Rssi','AP3_Rssi','AP4_Rssi']\n",
    "\n",
    "    use_train_columns = [\n",
    "                        'AP1_Distance (mm)','AP2_Distance (mm)','AP3_Distance (mm)',\n",
    "                        'AP1_StdDev (mm)','AP2_StdDev (mm)','AP3_StdDev (mm)',\n",
    "                        'AP1_Rssi','AP2_Rssi','AP3_Rssi','AP4_Rssi']\n",
    "\n",
    "    df = pd.read_csv(file_test, usecols=selected_columns)\n",
    "\n",
    "    # 3. 填補缺失、映射成數值標籤\n",
    "    df = df.groupby('Label').apply(lambda g: g.fillna(g.mean())).reset_index()\n",
    "\n",
    "    y_true = df['Label'].map(reverse_label_mapping).values\n",
    "\n",
    "    # 4. 標準化\n",
    "    scaler = joblib.load('scaler_test.pkl')   # 對應你存的 scaler 檔名\n",
    "    X = df[use_train_columns].values\n",
    "    X_scaled = scaler.transform(X)\n",
    "\n",
    "    allmde = []\n",
    "    allaccuracy = []\n",
    "\n",
    "    for i in range(10):\n",
    "        # 5. 載入模型並預測\n",
    "        model = load_model(f'3mcAPbestwosrt_{i}.h5')   # 換成你要測試的檔案\n",
    "        y_prob = model.predict(X_scaled,verbose=0)\n",
    "        y_pred = np.argmax(y_prob, axis=1)\n",
    "\n",
    "        # 6. 計算 Accuracy\n",
    "        acc = accuracy_score(y_true, y_pred)\n",
    "        # print(f\"Test Accuracy: {acc:.4f}\")\n",
    "\n",
    "        # 7. 計算 MDE\n",
    "        #    先把 numeric label 轉回字串，再對應座標\n",
    "        y_pred_labels = [ label_mapping[str(i+1)] for i in y_pred ]\n",
    "        y_true_labels = [ label_mapping[str(i+1)] for i in y_true ]\n",
    "        coords_pred = np.array([ label_to_coordinates[l] for l in y_pred_labels ])\n",
    "        coords_true = np.array([ label_to_coordinates[l] for l in y_true_labels ])\n",
    "        distances = np.linalg.norm(coords_pred - coords_true, axis=1)\n",
    "        mde = distances.mean()\n",
    "        # print(f\"Test MDE: {mde:.4f} m\")\n",
    "\n",
    "        allmde.append(mde)\n",
    "        allaccuracy.append(acc)\n",
    "\n",
    "    print(f'=== Date: {date} ===')\n",
    "    # print([round(float(mde), 4) for mde in allmde])\n",
    "    print(\"平均 MDE:\", round(sum(map(float, allmde)) / len(allmde), 4))\n",
    "    date_MDE.append(round(sum(map(float, allmde)) / len(allmde), 4))\n",
    "\n",
    "    # print([round(float(acc), 4) for acc in allaccuracy])\n",
    "    print(\"平均 Accuracy:\", round(sum(map(float, allaccuracy)) / len(allaccuracy), 4))\n",
    "    # date_Accuracy.append(round(sum(map(float, allaccuracy)) / len(allaccuracy), 4))\n",
    "\n",
    "print(\"MDE: \", date_MDE)\n",
    "\n",
    "\n"
   ]
  }
 ],
 "metadata": {
  "kernelspec": {
   "display_name": "Python 3",
   "language": "python",
   "name": "python3"
  },
  "language_info": {
   "codemirror_mode": {
    "name": "ipython",
    "version": 3
   },
   "file_extension": ".py",
   "mimetype": "text/x-python",
   "name": "python",
   "nbconvert_exporter": "python",
   "pygments_lexer": "ipython3",
   "version": "3.12.6"
  }
 },
 "nbformat": 4,
 "nbformat_minor": 2
}
